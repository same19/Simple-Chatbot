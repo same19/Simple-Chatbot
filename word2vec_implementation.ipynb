{
 "cells": [
  {
   "cell_type": "markdown",
   "metadata": {},
   "source": [
    "https://www.nltk.org/book/ch05.html\n",
    "\n",
    "Need to reduce more common words...\n",
    "\n",
    "Need to prevent overfitting. Keeps predicting the same word for every possible input.\n",
    "\n",
    "Replace mean squared with mean cube/fourth? Something to prioritize the largest errors."
   ]
  },
  {
   "cell_type": "code",
   "execution_count": 2,
   "metadata": {},
   "outputs": [],
   "source": [
    "import torch\n",
    "import torch.nn as nn\n",
    "import torch.nn.functional as F\n",
    "import torch.optim as optim\n",
    "import matplotlib.pyplot as plt\n",
    "import nltk\n",
    "from nltk import word_tokenize\n",
    "from nltk.corpus import wordnet\n",
    "from nltk.stem import PorterStemmer\n",
    "from nltk.stem import WordNetLemmatizer\n",
    "from nltk.corpus import words\n",
    "import numpy as np\n",
    "from sklearn.model_selection import train_test_split\n",
    "import pandas as pd"
   ]
  },
  {
   "cell_type": "code",
   "execution_count": 4,
   "metadata": {},
   "outputs": [
    {
     "data": {
      "text/plain": [
       "15114"
      ]
     },
     "execution_count": 4,
     "metadata": {},
     "output_type": "execute_result"
    }
   ],
   "source": [
    "from nltk.corpus import brown\n",
    "brown_news_tagged = brown.tagged_words(categories='news', tagset='universal')\n",
    "len(pd.Series(brown_news_tagged).unique())"
   ]
  },
  {
   "cell_type": "code",
   "execution_count": 268,
   "metadata": {},
   "outputs": [
    {
     "ename": "KeyboardInterrupt",
     "evalue": "",
     "output_type": "error",
     "traceback": [
      "\u001b[0;31m---------------------------------------------------------------------------\u001b[0m",
      "\u001b[0;31mKeyboardInterrupt\u001b[0m                         Traceback (most recent call last)",
      "Cell \u001b[0;32mIn[268], line 1\u001b[0m\n\u001b[0;32m----> 1\u001b[0m \u001b[38;5;28;43mlen\u001b[39;49m\u001b[43m(\u001b[49m\u001b[43mbrown\u001b[49m\u001b[38;5;241;43m.\u001b[39;49m\u001b[43mwords\u001b[49m\u001b[43m(\u001b[49m\u001b[43m)\u001b[49m\u001b[43m)\u001b[49m\n",
      "File \u001b[0;32m~/Documents/Code/Embeddings Project/.venv/lib/python3.11/site-packages/nltk/corpus/reader/util.py:401\u001b[0m, in \u001b[0;36mConcatenatedCorpusView.__len__\u001b[0;34m(self)\u001b[0m\n\u001b[1;32m    398\u001b[0m \u001b[38;5;28;01mdef\u001b[39;00m \u001b[38;5;21m__len__\u001b[39m(\u001b[38;5;28mself\u001b[39m):\n\u001b[1;32m    399\u001b[0m     \u001b[38;5;28;01mif\u001b[39;00m \u001b[38;5;28mlen\u001b[39m(\u001b[38;5;28mself\u001b[39m\u001b[38;5;241m.\u001b[39m_offsets) \u001b[38;5;241m<\u001b[39m\u001b[38;5;241m=\u001b[39m \u001b[38;5;28mlen\u001b[39m(\u001b[38;5;28mself\u001b[39m\u001b[38;5;241m.\u001b[39m_pieces):\n\u001b[1;32m    400\u001b[0m         \u001b[38;5;66;03m# Iterate to the end of the corpus.\u001b[39;00m\n\u001b[0;32m--> 401\u001b[0m \u001b[43m        \u001b[49m\u001b[38;5;28;43;01mfor\u001b[39;49;00m\u001b[43m \u001b[49m\u001b[43mtok\u001b[49m\u001b[43m \u001b[49m\u001b[38;5;129;43;01min\u001b[39;49;00m\u001b[43m \u001b[49m\u001b[38;5;28;43mself\u001b[39;49m\u001b[38;5;241;43m.\u001b[39;49m\u001b[43miterate_from\u001b[49m\u001b[43m(\u001b[49m\u001b[38;5;28;43mself\u001b[39;49m\u001b[38;5;241;43m.\u001b[39;49m\u001b[43m_offsets\u001b[49m\u001b[43m[\u001b[49m\u001b[38;5;241;43m-\u001b[39;49m\u001b[38;5;241;43m1\u001b[39;49m\u001b[43m]\u001b[49m\u001b[43m)\u001b[49m\u001b[43m:\u001b[49m\n\u001b[1;32m    402\u001b[0m \u001b[43m            \u001b[49m\u001b[38;5;28;43;01mpass\u001b[39;49;00m\n\u001b[1;32m    404\u001b[0m     \u001b[38;5;28;01mreturn\u001b[39;00m \u001b[38;5;28mself\u001b[39m\u001b[38;5;241m.\u001b[39m_offsets[\u001b[38;5;241m-\u001b[39m\u001b[38;5;241m1\u001b[39m]\n",
      "File \u001b[0;32m~/Documents/Code/Embeddings Project/.venv/lib/python3.11/site-packages/nltk/corpus/reader/util.py:424\u001b[0m, in \u001b[0;36mConcatenatedCorpusView.iterate_from\u001b[0;34m(self, start_tok)\u001b[0m\n\u001b[1;32m    421\u001b[0m     \u001b[38;5;28mself\u001b[39m\u001b[38;5;241m.\u001b[39m_open_piece \u001b[38;5;241m=\u001b[39m piece\n\u001b[1;32m    423\u001b[0m \u001b[38;5;66;03m# Get everything we can from this piece.\u001b[39;00m\n\u001b[0;32m--> 424\u001b[0m \u001b[38;5;28;01myield from\u001b[39;00m piece\u001b[38;5;241m.\u001b[39miterate_from(\u001b[38;5;28mmax\u001b[39m(\u001b[38;5;241m0\u001b[39m, start_tok \u001b[38;5;241m-\u001b[39m offset))\n\u001b[1;32m    426\u001b[0m \u001b[38;5;66;03m# Update the offset table.\u001b[39;00m\n\u001b[1;32m    427\u001b[0m \u001b[38;5;28;01mif\u001b[39;00m piecenum \u001b[38;5;241m+\u001b[39m \u001b[38;5;241m1\u001b[39m \u001b[38;5;241m==\u001b[39m \u001b[38;5;28mlen\u001b[39m(\u001b[38;5;28mself\u001b[39m\u001b[38;5;241m.\u001b[39m_offsets):\n",
      "File \u001b[0;32m~/Documents/Code/Embeddings Project/.venv/lib/python3.11/site-packages/nltk/corpus/reader/util.py:306\u001b[0m, in \u001b[0;36mStreamBackedCorpusView.iterate_from\u001b[0;34m(self, start_tok)\u001b[0m\n\u001b[1;32m    304\u001b[0m \u001b[38;5;28mself\u001b[39m\u001b[38;5;241m.\u001b[39m_current_toknum \u001b[38;5;241m=\u001b[39m toknum\n\u001b[1;32m    305\u001b[0m \u001b[38;5;28mself\u001b[39m\u001b[38;5;241m.\u001b[39m_current_blocknum \u001b[38;5;241m=\u001b[39m block_index\n\u001b[0;32m--> 306\u001b[0m tokens \u001b[38;5;241m=\u001b[39m \u001b[38;5;28;43mself\u001b[39;49m\u001b[38;5;241;43m.\u001b[39;49m\u001b[43mread_block\u001b[49m\u001b[43m(\u001b[49m\u001b[38;5;28;43mself\u001b[39;49m\u001b[38;5;241;43m.\u001b[39;49m\u001b[43m_stream\u001b[49m\u001b[43m)\u001b[49m\n\u001b[1;32m    307\u001b[0m \u001b[38;5;28;01massert\u001b[39;00m \u001b[38;5;28misinstance\u001b[39m(tokens, (\u001b[38;5;28mtuple\u001b[39m, \u001b[38;5;28mlist\u001b[39m, AbstractLazySequence)), (\n\u001b[1;32m    308\u001b[0m     \u001b[38;5;124m\"\u001b[39m\u001b[38;5;124mblock reader \u001b[39m\u001b[38;5;132;01m%s\u001b[39;00m\u001b[38;5;124m() should return list or tuple.\u001b[39m\u001b[38;5;124m\"\u001b[39m\n\u001b[1;32m    309\u001b[0m     \u001b[38;5;241m%\u001b[39m \u001b[38;5;28mself\u001b[39m\u001b[38;5;241m.\u001b[39mread_block\u001b[38;5;241m.\u001b[39m\u001b[38;5;18m__name__\u001b[39m\n\u001b[1;32m    310\u001b[0m )\n\u001b[1;32m    311\u001b[0m num_toks \u001b[38;5;241m=\u001b[39m \u001b[38;5;28mlen\u001b[39m(tokens)\n",
      "File \u001b[0;32m~/Documents/Code/Embeddings Project/.venv/lib/python3.11/site-packages/nltk/corpus/reader/tagged.py:304\u001b[0m, in \u001b[0;36mTaggedCorpusView.read_block\u001b[0;34m(self, stream)\u001b[0m\n\u001b[1;32m    302\u001b[0m         para\u001b[38;5;241m.\u001b[39mappend(sent)\n\u001b[1;32m    303\u001b[0m     \u001b[38;5;28;01melse\u001b[39;00m:\n\u001b[0;32m--> 304\u001b[0m         para\u001b[38;5;241m.\u001b[39mextend(sent)\n\u001b[1;32m    305\u001b[0m \u001b[38;5;28;01mif\u001b[39;00m \u001b[38;5;28mself\u001b[39m\u001b[38;5;241m.\u001b[39m_group_by_para:\n\u001b[1;32m    306\u001b[0m     block\u001b[38;5;241m.\u001b[39mappend(para)\n",
      "\u001b[0;31mKeyboardInterrupt\u001b[0m: "
     ]
    }
   ],
   "source": [
    "len(brown.words())"
   ]
  },
  {
   "cell_type": "code",
   "execution_count": 41,
   "metadata": {},
   "outputs": [],
   "source": [
    "def tensor_to_array(t):\n",
    "    return np.array([i.item() for i in list(t)])"
   ]
  },
  {
   "cell_type": "markdown",
   "metadata": {},
   "source": [
    "# Prepare Corpus"
   ]
  },
  {
   "cell_type": "code",
   "execution_count": 195,
   "metadata": {},
   "outputs": [
    {
     "data": {
      "text/plain": [
       "5000"
      ]
     },
     "execution_count": 195,
     "metadata": {},
     "output_type": "execute_result"
    }
   ],
   "source": [
    "remove_punc = [word for word in brown_news_tagged if word[1] != \".\"]\n",
    "text = [word[0].lower() for word in remove_punc][:5000]\n",
    "# text = word_tokenize(open(\"text.txt\", \"r\").readline())\n",
    "len(text)"
   ]
  },
  {
   "cell_type": "code",
   "execution_count": 196,
   "metadata": {},
   "outputs": [
    {
     "data": {
      "text/plain": [
       "2"
      ]
     },
     "execution_count": 196,
     "metadata": {},
     "output_type": "execute_result"
    }
   ],
   "source": [
    "pd.Series(text).value_counts()[\"called\"]"
   ]
  },
  {
   "cell_type": "code",
   "execution_count": 197,
   "metadata": {},
   "outputs": [
    {
     "data": {
      "text/plain": [
       "1646"
      ]
     },
     "execution_count": 197,
     "metadata": {},
     "output_type": "execute_result"
    }
   ],
   "source": [
    "corpus = pd.Series([word for word in text]).unique()\n",
    "len(corpus)"
   ]
  },
  {
   "cell_type": "code",
   "execution_count": 198,
   "metadata": {},
   "outputs": [],
   "source": [
    "vecs = {}\n",
    "dim = 128\n",
    "for i in range(len(corpus)):\n",
    "    vecs[corpus[i]] = np.random.random(dim)*2 - np.ones(dim)"
   ]
  },
  {
   "cell_type": "markdown",
   "metadata": {},
   "source": [
    "# Train Model"
   ]
  },
  {
   "cell_type": "code",
   "execution_count": 199,
   "metadata": {},
   "outputs": [],
   "source": [
    "scanning_window = 5\n",
    "\n",
    "num_train_datapoints = int(0.8 * (len(text)-2*scanning_window))"
   ]
  },
  {
   "cell_type": "markdown",
   "metadata": {},
   "source": [
    "## Define Net"
   ]
  },
  {
   "cell_type": "code",
   "execution_count": 200,
   "metadata": {},
   "outputs": [],
   "source": [
    "class Net(nn.Module):\n",
    "\n",
    "    def __init__(self, in_len):\n",
    "        super(Net, self).__init__()\n",
    "        self.fc1 = nn.Linear(2*scanning_window*in_len, 512) #to embedding layer (the internal representation of the input word)\n",
    "        self.fc2 = nn.Linear(512, 256)\n",
    "        self.fc3 = nn.Linear(256, in_len) #to output (word before, word after)\n",
    "    def forward(self, x):\n",
    "        # x = F.relu(self.fc1(x))\n",
    "        x = F.sigmoid(self.fc1(x))\n",
    "        x = F.sigmoid(self.fc2(x))\n",
    "        x = F.sigmoid(self.fc3(x))\n",
    "        return x\n",
    "    def embeddings(self, x):\n",
    "        x = self.fc1(x)\n",
    "        return x\n",
    "    def loss_score(self, x, y):\n",
    "        l = 0\n",
    "        for i in range(len(x)):\n",
    "            output = self(x[i])\n",
    "            target = y[i]\n",
    "            criterion_temp = nn.MSELoss()\n",
    "            loss = criterion_temp(output, target)\n",
    "            l += loss.item()/len(x)\n",
    "        return l\n"
   ]
  },
  {
   "cell_type": "markdown",
   "metadata": {},
   "source": [
    "## Use Net"
   ]
  },
  {
   "cell_type": "code",
   "execution_count": 238,
   "metadata": {},
   "outputs": [],
   "source": [
    "net = Net(dim)\n",
    "\n",
    "params = list(net.parameters())\n",
    "\n",
    "net.zero_grad()\n",
    "\n",
    "# def criterion(input, target):\n",
    "#     return sum((a-b)**3 for a,b in zip(input, target))/len(input)\n",
    "criterion = nn.MSELoss()\n",
    "# nn.CosineEmbeddingLoss()\n",
    "# nn.MSELoss()\n",
    "# nn.BCELoss\n",
    "# nn.LocalResponseNorm"
   ]
  },
  {
   "cell_type": "code",
   "execution_count": 239,
   "metadata": {},
   "outputs": [],
   "source": [
    "# create your optimizer\n",
    "losses = []\n",
    "optimizer = optim.SGD(net.parameters(), lr=0.01)"
   ]
  },
  {
   "cell_type": "code",
   "execution_count": 240,
   "metadata": {},
   "outputs": [],
   "source": [
    "def generate_training_data(index, window = 10, data=text):\n",
    "    focus_word = data[index+window]\n",
    "    input_list = vecs[focus_word]\n",
    "\n",
    "    o = []\n",
    "    i = 0\n",
    "    for i in range(-window, 0):\n",
    "        if index + i + window >= 0:\n",
    "            o += list(vecs[data[index + i + window]])\n",
    "    #skip index 0 - focus word\n",
    "    for i in range(1, window+1):\n",
    "        if index + i + window < len(data):\n",
    "            o += list(vecs[data[index + i + window]])\n",
    "\n",
    "    return torch.tensor([float(a) for a in input_list]), torch.tensor([float(a) for a in o]), focus_word"
   ]
  },
  {
   "cell_type": "code",
   "execution_count": 252,
   "metadata": {},
   "outputs": [
    {
     "name": "stdout",
     "output_type": "stream",
     "text": [
      "RUN 1/5: •••••••••••••••••••••\n",
      "RUN 2/5: •••••••••••••••••••••\n",
      "RUN 3/5: •••••••••••••••••••••\n",
      "RUN 4/5: •••••••••••••••••••••\n",
      "RUN 5/5: •••••••••••••••••••••\n"
     ]
    }
   ],
   "source": [
    "NUM_RUNS = 5\n",
    "for run_num in range(NUM_RUNS):\n",
    "    print(\"RUN\", str(run_num+1)+\"/\"+str(NUM_RUNS), end=\": \")\n",
    "    for i in range(0,num_train_datapoints,1):\n",
    "        if i % (num_train_datapoints//20) == 0:\n",
    "            print(\"•\", end=\"\")\n",
    "        \n",
    "        target, input, focus_word = generate_training_data(i, window = scanning_window)\n",
    "        \n",
    "        optimizer.zero_grad()   # zero the gradient buffers\n",
    "        output = net(input)\n",
    "\n",
    "        adjust_vecs_constant = 0.5\n",
    "        new_target = adjust_vecs_constant * output + (1-adjust_vecs_constant) * target\n",
    "\n",
    "        vecs[focus_word] = tensor_to_array(new_target)\n",
    "\n",
    "        loss = criterion(output, target)\n",
    "        \n",
    "        loss.backward()\n",
    "\n",
    "        optimizer.step()    # Does the update\n",
    "\n",
    "        losses.append(loss.item())\n",
    "        # losses.append(criterion(output, new_target))\n",
    "    # plt.plot(losses)\n",
    "    # plt.show()\n",
    "    print()"
   ]
  },
  {
   "cell_type": "code",
   "execution_count": 253,
   "metadata": {},
   "outputs": [
    {
     "data": {
      "image/png": "[encoded data removed]",
      "text/plain": [
       "<Figure size 640x480 with 1 Axes>"
      ]
     },
     "metadata": {},
     "output_type": "display_data"
    }
   ],
   "source": [
    "plt.plot(losses)\n",
    "plt.show()"
   ]
  },
  {
   "cell_type": "markdown",
   "metadata": {},
   "source": [
    "# Test Model"
   ]
  },
  {
   "cell_type": "code",
   "execution_count": 260,
   "metadata": {},
   "outputs": [],
   "source": [
    "def words_around(word):\n",
    "    return net(word)\n",
    "\n"
   ]
  },
  {
   "cell_type": "code",
   "execution_count": 261,
   "metadata": {},
   "outputs": [
    {
     "data": {
      "text/plain": [
       "array(['the', 'fulton', 'county', ..., 'those', 'rise', '7.5'],\n",
       "      dtype=object)"
      ]
     },
     "execution_count": 261,
     "metadata": {},
     "output_type": "execute_result"
    }
   ],
   "source": [
    "corpus"
   ]
  },
  {
   "cell_type": "code",
   "execution_count": 256,
   "metadata": {},
   "outputs": [
    {
     "name": "stdout",
     "output_type": "stream",
     "text": [
      "the people have conducted an laws investigation into this information which was illegal\n"
     ]
    }
   ],
   "source": [
    "text_11_words = \"the people have conducted an investigation into this information which was illegal\"\n",
    "gen = text_11_words.split(\" \")\n",
    "for i in range(1):\n",
    "    input, output, word = generate_training_data(i, window=scanning_window, data=gen)\n",
    "    o = net(output)\n",
    "    max_i = -1\n",
    "    for j in range(len(o)):\n",
    "        if o[j].item() > o[max_i].item():\n",
    "            max_i = j\n",
    "    gen.insert(i + scanning_window, corpus[max_i])\n",
    "print(\" \".join(gen))\n"
   ]
  },
  {
   "cell_type": "code",
   "execution_count": 257,
   "metadata": {},
   "outputs": [
    {
     "data": {
      "text/plain": [
       "'which'"
      ]
     },
     "execution_count": 257,
     "metadata": {},
     "output_type": "execute_result"
    }
   ],
   "source": [
    "input = -1000*torch.ones(2*dim*scanning_window)\n",
    "o = net(input)\n",
    "o\n",
    "max_i = -1\n",
    "for i in range(len(o)):\n",
    "    if o[i].item() > o[max_i].item():\n",
    "        max_i = i\n",
    "max_i\n",
    "corpus[max_i]"
   ]
  },
  {
   "cell_type": "code",
   "execution_count": 266,
   "metadata": {},
   "outputs": [],
   "source": [
    "def cos_similarity(a, b):\n",
    "    s = 0\n",
    "    for i in range(len(a)):\n",
    "        s += a[i] * b[i]\n",
    "    s /= sum(e**2 for e in a)**0.5\n",
    "    s /= sum(e**2 for e in b)**0.5\n",
    "    return s\n",
    "ref = vecs[\"the\"]"
   ]
  },
  {
   "cell_type": "code",
   "execution_count": 267,
   "metadata": {},
   "outputs": [
    {
     "name": "stdout",
     "output_type": "stream",
     "text": [
      "social\n",
      "\n"
     ]
    }
   ],
   "source": [
    "min_word = corpus[0]\n",
    "for word in corpus:\n",
    "    s = cos_similarity(vecs[word], ref)\n",
    "    if s != 0 and s <= cos_similarity(vecs[min_word], ref):\n",
    "        min_word = word\n",
    "print(min_word)\n",
    "print()"
   ]
  }
 ],
 "metadata": {
  "kernelspec": {
   "display_name": ".venv",
   "language": "python",
   "name": "python3"
  },
  "language_info": {
   "codemirror_mode": {
    "name": "ipython",
    "version": 3
   },
   "file_extension": ".py",
   "mimetype": "text/x-python",
   "name": "python",
   "nbconvert_exporter": "python",
   "pygments_lexer": "ipython3",
   "version": "3.11.3"
  }
 },
 "nbformat": 4,
 "nbformat_minor": 2
}
