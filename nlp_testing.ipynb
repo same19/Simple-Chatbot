{
 "cells": [
  {
   "cell_type": "code",
   "execution_count": 147,
   "metadata": {},
   "outputs": [],
   "source": [
    "import torch\n",
    "import torch.nn as nn\n",
    "import torch.nn.functional as F\n",
    "import torch.optim as optim\n",
    "import matplotlib.pyplot as plt\n",
    "import nltk\n",
    "from nltk import word_tokenize\n",
    "from nltk.corpus import wordnet\n",
    "from nltk.stem import PorterStemmer\n",
    "from nltk.stem import WordNetLemmatizer\n",
    "from nltk.corpus import words\n",
    "import numpy as np\n",
    "from sklearn.model_selection import train_test_split"
   ]
  },
  {
   "cell_type": "code",
   "execution_count": 150,
   "metadata": {},
   "outputs": [
    {
     "name": "stdout",
     "output_type": "stream",
     "text": [
      "pausing\n"
     ]
    },
    {
     "data": {
      "text/plain": [
       "'pausing'"
      ]
     },
     "execution_count": 150,
     "metadata": {},
     "output_type": "execute_result"
    }
   ],
   "source": [
    "def stem(word):\n",
    "    # sno = nltk.stem.SnowballStemmer('english')\n",
    "    ps = WordNetLemmatizer()\n",
    "    stem = ps.lemmatize(word)\n",
    "    print(stem)\n",
    "    if stem in words.words():\n",
    "        return stem\n",
    "    else:\n",
    "        return word\n",
    "stem(\"p\")"
   ]
  },
  {
   "cell_type": "code",
   "execution_count": 108,
   "metadata": {},
   "outputs": [
    {
     "data": {
      "text/plain": [
       "4049"
      ]
     },
     "execution_count": 108,
     "metadata": {},
     "output_type": "execute_result"
    }
   ],
   "source": [
    "# text = \"\"\"Once upon a time, in a land far away, there lived a boy named John. John was a brave lad who loved adventure. He lived in a small village surrounded by tall mountains and lush forests. Every day, he would explore the woods, searching for hidden treasures and new discoveries.\n",
    "\n",
    "# One sunny morning, as John ventured deeper into the forest, he stumbled upon a mysterious cave. The cave was dark and ominous, but John's curiosity got the better of him. With a torch in hand, he bravely stepped inside.\n",
    "\n",
    "# Inside the cave, John found a narrow passage leading to a large chamber. In the center of the chamber, illuminated by a beam of light streaming in from a hole in the ceiling, was a magnificent treasure chest.\n",
    "\n",
    "# Heart racing with excitement, John approached the chest. He reached out and slowly lifted the lid. Inside, gleaming in the dim light, were jewels of every color imaginable. Diamonds, rubies, emeralds – they sparkled like stars in the night sky.\n",
    "\n",
    "# But among the jewels, John noticed something else – a dusty old book. It looked ancient, with weathered pages and faded writing. Curious, he picked it up and began to read.\n",
    "\n",
    "# As he turned the pages, John realized that the book was a map – a map to a hidden kingdom beyond the mountains. According to the ancient text, the kingdom was filled with untold riches and wonders beyond imagination.\n",
    "\n",
    "# Determined to find this kingdom, John set out on a quest. He packed his belongings, bid farewell to his village, and began his journey into the unknown.\n",
    "\n",
    "# For days, John traveled through dense forests and treacherous mountains. He faced wild beasts and fierce storms, but he pressed on, driven by the promise of adventure.\n",
    "\n",
    "# Finally, after weeks of travel, John reached the foot of the mountains. With a determined spirit, he began the arduous climb to the summit.\n",
    "\n",
    "# At last, after days of climbing, John reached the top of the mountain. And there, stretching out before him, was the hidden kingdom.\n",
    "\n",
    "# It was more magnificent than he could have ever imagined. Towering castles rose into the sky, surrounded by lush gardens and shimmering lakes. And everywhere he looked, there were treasures beyond counting – gold, silver, precious gems – all waiting to be discovered.\n",
    "\n",
    "# But as John explored the kingdom, he realized that its true beauty lay not in its riches, but in its people. They welcomed him with open arms, sharing their stories and traditions.\n",
    "\n",
    "# And so, John lived in the hidden kingdom, surrounded by friends and wonders beyond imagination. And though his journey had been long and perilous, he knew that it had been worth every step.\n",
    "\n",
    "# For in the end, it was not the treasures he found that mattered most, but the adventures he had along the way. And as he watched the sun set behind the mountains, painting the sky with hues of pink and gold, John knew that he had found his true home.\"\"\"\n",
    "text = \"\"\"Once upon a time, in a small village, there was a boy named Tim. Tim lived with his family in a cozy house near a big tree. Every day, Tim played with his friends, ran in the fields, and helped his parents. Life was simple but joyful.\n",
    "\n",
    "One sunny day, Tim found a shiny stone by the river. He picked it up and showed it to his friends. They all admired its beauty. Tim decided to keep the stone as a treasure.\n",
    "\n",
    "Days passed, and Tim noticed something peculiar. Whenever he held the stone, he felt a strange warmth spreading through him. It made him feel courageous and wise.\n",
    "\n",
    "Tim's parents noticed the change in him. They asked about the stone. Tim explained its magic to them. They were amazed but warned him to use its power wisely.\n",
    "\n",
    "One stormy night, a traveler came to the village seeking shelter. He told tales of a distant kingdom plagued by darkness. Tim listened intently, feeling the urge to help.\n",
    "\n",
    "The next morning, Tim announced his decision to his parents. He would embark on a journey to the distant kingdom and use the magic of the stone to bring light and hope.\n",
    "\n",
    "His parents were proud but worried. They hugged him tightly, wishing him luck. Tim set off with determination in his heart.\n",
    "\n",
    "The journey was long and perilous. Tim faced many challenges along the way. But whenever he felt scared or lost, he held onto the stone, drawing strength from its warmth.\n",
    "\n",
    "Finally, after many days of travel, Tim reached the kingdom. It was indeed shrouded in darkness and despair. But Tim refused to give up hope. He stood in the town square, holding the stone high above his head.\n",
    "\n",
    "As if by magic, the stone began to glow with a brilliant light. It spread across the kingdom, banishing the darkness and bringing joy to the people.\n",
    "\n",
    "Tim's bravery and kindness had saved the kingdom. He became a hero, beloved by all. And though he eventually returned home, the memory of his adventure and the magic of the stone stayed with him forever.\n",
    "\n",
    "From that day on, Tim lived a happy life, always grateful for the simple stone that had changed everything. And the village, once again, knew peace and prosperity, thanks to the boy with the extraordinary heart.\n",
    "\n",
    "Tim's fame spread far and wide. People came from distant lands to hear his story and see the magical stone. He became a symbol of hope and inspiration.\n",
    "\n",
    "Years passed, and Tim grew into a wise and respected man. He continued to use the stone's power for good, helping those in need and spreading kindness wherever he went.\n",
    "\n",
    "One day, a messenger arrived from a neighboring kingdom. They were facing their own troubles and begged Tim for help. Without hesitation, Tim agreed to assist them.\n",
    "\n",
    "He embarked on another journey, this time accompanied by a group of loyal friends. Together, they traveled across mountains and forests, facing danger at every turn.\n",
    "\n",
    "But Tim remained undeterred. He knew that with the magic of the stone and the support of his friends, they could overcome any obstacle.\n",
    "\n",
    "Finally, they reached the troubled kingdom. It was even worse than Tim had imagined. The people were starving, and their homes lay in ruins.\n",
    "\n",
    "Once again, Tim stood in the town square, holding the stone aloft. Its light shone brighter than ever before, filling the kingdom with hope and promise.\n",
    "\n",
    "With Tim's guidance, the people began to rebuild their lives. They worked together tirelessly, united by a common goal.\n",
    "\n",
    "Months passed, and the kingdom was transformed. Where there was once darkness, there was now light. And it was all thanks to Tim and his extraordinary stone.\n",
    "\n",
    "But Tim knew that his work was not yet done. There were still others in need of his help, other kingdoms waiting to be saved.\n",
    "\n",
    "So he bid farewell to the grateful people and set off once again, ready to face whatever challenges lay ahead.\n",
    "\n",
    "And as he journeyed into the unknown, Tim knew that as long as he had the magic stone and the love of his friends, he could overcome anything.\n",
    "\n",
    "For he was not just a hero; he was a beacon of hope in a world that sorely needed it. And his story would live on, inspiring generations to come.\"\"\"\n",
    "text = \" \".join([part.strip() for part in text.split(\"\\n\")])\n",
    "len(text)"
   ]
  },
  {
   "cell_type": "code",
   "execution_count": 155,
   "metadata": {},
   "outputs": [
    {
     "name": "stdout",
     "output_type": "stream",
     "text": [
      "NN: noun, common, singular or mass\n",
      "    common-carrier cabbage knuckle-duster Casino afghan shed thermostat\n",
      "    investment slide humour falloff slick wind hyena override subhumanity\n",
      "    machinist ...\n",
      "NNP: noun, proper, singular\n",
      "    Motown Venneboerger Czestochwa Ranzer Conchita Trumplane Christos\n",
      "    Oceanside Escobar Kreisler Sawyer Cougar Yvette Ervin ODI Darryl CTCA\n",
      "    Shannon A.K.C. Meltex Liverpool ...\n",
      "NNPS: noun, proper, plural\n",
      "    Americans Americas Amharas Amityvilles Amusements Anarcho-Syndicalists\n",
      "    Andalusians Andes Andruses Angels Animals Anthony Antilles Antiques\n",
      "    Apache Apaches Apocrypha ...\n",
      "NNS: noun, common, plural\n",
      "    undergraduates scotches bric-a-brac products bodyguards facets coasts\n",
      "    divestitures storehouses designs clubs fragrances averages\n",
      "    subjectivists apprehensions muses factory-jobs ...\n"
     ]
    }
   ],
   "source": [
    "text = word_tokenize(\"And now for something completely different\")\n",
    "nltk.pos_tag(text)\n",
    "# [('And', 'CC'), ('now', 'RB'), ('for', 'IN'), ('something', 'NN'),\n",
    "# ('completely', 'RB'), ('different', 'JJ')]\n",
    "nltk.help.upenn_tagset('NN.*')"
   ]
  },
  {
   "cell_type": "code",
   "execution_count": 119,
   "metadata": {},
   "outputs": [
    {
     "name": "stdout",
     "output_type": "stream",
     "text": [
      "['once', 'upon', 'a', 'time', 'in', 'small', 'village', 'there', 'wa', 'boy', 'name', 'tim', 'live', 'with', 'hi', 'family', 'cozy', 'house', 'near', 'big', 'tree', 'every', 'day', 'play', 'friend', 'ran', 'the', 'field', 'and', 'help', 'parent', 'life', 'simple', 'but', 'joy', 'one', 'sunny', 'found', 'shiny', 'stone', 'by', 'river', 'he', 'pick', 'it', 'up', 'show', 'to', 'they', 'all', 'admired', 'beauti', 'decided', 'keep', 'as', 'treasure', 'pass', 'noticed', 'something', 'peculiar', 'whenever', 'held', 'felt', 'strang', 'warmth', 'spread', 'through', 'him', 'made', 'feel', 'courageous', 'wise', \"'s\", 'chang', 'ask', 'about', 'explain', 'magic', 'them', 'were', 'amazed', 'warn', 'use', 'power', 'stormy', 'night', 'travel', 'came', 'seek', 'shelter', 'told', 'tale', 'of', 'distant', 'kingdom', 'plagued', 'dark', 'listen', 'intent', 'urge', 'next', 'morn', 'announced', 'decision', 'would', 'embark', 'on', 'journey', 'bring', 'light', 'hope', 'proud', 'worried', 'hug', 'tightly', 'wish', 'luck', 'set', 'off', 'determination', 'heart', 'long', 'peril', 'face', 'mani', 'challenges', 'along', 'way', 'scare', 'or', 'lost', 'onto', 'draw', 'strength', 'from', 'final', 'after', 'reach', 'inde', 'shroud', 'despair', 'refused', 'give', 'stood', 'town', 'square', 'hold', 'high', 'above', 'head', 'if', 'began', 'glow', 'brilliant', 'across', 'banish', 'people', 'bravery', 'kind', 'had', 'save', 'became', 'hero', 'beloved', 'though', 'eventually', 'return', 'home', 'memory', 'adventure', 'stay', 'forever', 'that', 'happy', 'alway', 'grate', 'for', 'everything', 'again', 'knew', 'peace', 'prosper', 'thank', 'extraordinary', 'fame', 'far', 'wide', 'land', 'hear', 'story', 'see', 'symbol', 'inspiration', 'year', 'grew', 'into', 'respect', 'man', 'continued', 'good', 'those', 'need', 'wherever', 'went', 'messenger', 'arrived', 'neighbor', 'their', 'own', 'troubles', 'beg', 'without', 'hesitation', 'agre', 'assist', 'another', 'this', 'accompanied', 'group', 'loyal', 'together', 'mountain', 'forest', 'danger', 'at', 'turn', 'remain', 'undeterred', 'support', 'could', 'overcome', 'ani', 'obstacle', 'troubled', 'even', 'worse', 'than', 'imagined', 'starving', 'lay', 'ruin', 'aloft', 'shone', 'brighter', 'ever', 'before', 'fill', 'promise', 'guidance', 'rebuild', 'work', 'tirelessly', 'unit', 'common', 'goal', 'month', 'transform', 'where', 'now', 'not', 'yet', 'done', 'still', 'other', 'wait', 'be', 'so', 'bid', 'farewell', 'ready', 'whatever', 'ahead', 'unknown', 'love', 'anything', 'just', 'beacon', 'world', 'sore', 'inspiring', 'generations', 'come']\n"
     ]
    },
    {
     "data": {
      "text/plain": [
       "282"
      ]
     },
     "execution_count": 119,
     "metadata": {},
     "output_type": "execute_result"
    }
   ],
   "source": [
    "corpus = []\n",
    "\n",
    "individual_words = word_tokenize(text)\n",
    "while \".\" in individual_words:\n",
    "    individual_words.remove(\".\")\n",
    "while \",\" in individual_words:\n",
    "    individual_words.remove(\",\")\n",
    "while \";\" in individual_words:\n",
    "    individual_words.remove(\";\")\n",
    "for i in range(len(individual_words)):\n",
    "    word = individual_words[i]\n",
    "    stemmed = stem(word).lower()\n",
    "    individual_words[i] = stemmed\n",
    "    if stemmed not in corpus:\n",
    "        corpus.append(stemmed)\n",
    "\n",
    "print(corpus)\n",
    "len(corpus)"
   ]
  },
  {
   "cell_type": "code",
   "execution_count": 120,
   "metadata": {},
   "outputs": [],
   "source": [
    "word_dict = {}\n",
    "for i in range(len(corpus)):\n",
    "    word_dict[corpus[i]] = [1.0 if j == i else 0.0 for j in range(len(corpus))]\n",
    "# word_dict"
   ]
  },
  {
   "cell_type": "code",
   "execution_count": 121,
   "metadata": {},
   "outputs": [],
   "source": [
    "class Net(nn.Module):\n",
    "\n",
    "    def __init__(self, in_len):\n",
    "        super(Net, self).__init__()\n",
    "        self.fc1 = nn.Linear(in_len, 8) #to embedding layer (the internal representation of the input word)\n",
    "        self.fc2 = nn.Linear(8, 2*in_len) #to output (word before, word after)\n",
    "    def forward(self, x):\n",
    "        # x = F.relu(self.fc1(x))\n",
    "        x = F.sigmoid(self.fc1(x))\n",
    "        x = self.fc2(x)\n",
    "        return x\n",
    "    def embeddings(self, x):\n",
    "        x = self.fc1(x)\n",
    "        return x\n",
    "    def loss_score(self, x, y):\n",
    "        l = 0\n",
    "        for i in range(len(x)):\n",
    "            output = self(x[i])\n",
    "            target = y[i]\n",
    "            criterion_temp = nn.MSELoss()\n",
    "            loss = criterion_temp(output, target)\n",
    "            l += loss.item()/len(x)\n",
    "        return l"
   ]
  },
  {
   "cell_type": "code",
   "execution_count": 122,
   "metadata": {},
   "outputs": [
    {
     "data": {
      "text/plain": [
       "Net(\n",
       "  (fc1): Linear(in_features=282, out_features=8, bias=True)\n",
       "  (fc2): Linear(in_features=8, out_features=564, bias=True)\n",
       ")"
      ]
     },
     "execution_count": 122,
     "metadata": {},
     "output_type": "execute_result"
    }
   ],
   "source": [
    "net = Net(len(corpus))\n",
    "net"
   ]
  },
  {
   "cell_type": "code",
   "execution_count": 123,
   "metadata": {},
   "outputs": [],
   "source": [
    "params = list(net.parameters())\n",
    "\n",
    "net.zero_grad()\n",
    "\n",
    "criterion = nn.MSELoss()"
   ]
  },
  {
   "cell_type": "code",
   "execution_count": 124,
   "metadata": {},
   "outputs": [
    {
     "data": {
      "text/plain": [
       "724"
      ]
     },
     "execution_count": 124,
     "metadata": {},
     "output_type": "execute_result"
    }
   ],
   "source": [
    "x = []\n",
    "y = []\n",
    "for i in range(1,len(individual_words)-1):\n",
    "    x.append(torch.tensor(word_dict[individual_words[i]]))\n",
    "    y.append(torch.tensor(word_dict[individual_words[i-1]] + word_dict[individual_words[i+1]]))\n",
    "\n",
    "x_train, x_test, y_train, y_test = train_test_split(x, y, test_size=0.2, random_state=5)\n",
    "len(x)"
   ]
  },
  {
   "cell_type": "code",
   "execution_count": 129,
   "metadata": {},
   "outputs": [
    {
     "name": "stdout",
     "output_type": "stream",
     "text": [
      "RUN 0/100: •••••••••••••••••••••\n",
      "RUN 1/100: •••••••••••••••••••••\n",
      "RUN 2/100: •••••••••••••••••••••\n",
      "RUN 3/100: •••••••••••••••••••••\n",
      "RUN 4/100: •••••••••••••••••••••\n",
      "RUN 5/100: •••••••••••••••••••••\n",
      "RUN 6/100: •••••••••••••••••••••\n",
      "RUN 7/100: •••••••••••••••••••••\n",
      "RUN 8/100: •••••••••••••••••••••\n",
      "RUN 9/100: •••••••••••••••••••••\n",
      "RUN 10/100: •••••••••••••••••••••\n",
      "RUN 11/100: •••••••••••••••••••••\n",
      "RUN 12/100: •••••••••••••••••••••\n",
      "RUN 13/100: •••••••••••••••••••••\n",
      "RUN 14/100: •••••••••••••••••••••\n",
      "RUN 15/100: •••••••••••••••••••••\n",
      "RUN 16/100: •••••••••••••••••••••\n",
      "RUN 17/100: •••••••••••••••••••••\n",
      "RUN 18/100: •••••••••••••••••••••\n",
      "RUN 19/100: •••••••••••••••••••••\n",
      "RUN 20/100: •••••••••••••••••••••\n",
      "RUN 21/100: •••••••••••••••••••••\n",
      "RUN 22/100: •••••••••••••••••••••\n",
      "RUN 23/100: •••••••••••••••••••••\n",
      "RUN 24/100: •••••••••••••••••••••\n",
      "RUN 25/100: •••••••••••••••••••••\n",
      "RUN 26/100: •••••••••••••••••••••\n",
      "RUN 27/100: •••••••••••••••••••••\n",
      "RUN 28/100: •••••••••••••••••••••\n",
      "RUN 29/100: •••••••••••••••••••••\n",
      "RUN 30/100: •••••••••••••••••••••\n",
      "RUN 31/100: •••••••••••••••••••••\n",
      "RUN 32/100: •••••••••••••••••••••\n",
      "RUN 33/100: •••••••••••••••••••••\n",
      "RUN 34/100: •••••••••••••••••••••\n",
      "RUN 35/100: •••••••••••••••••••••\n",
      "RUN 36/100: •••••••••••••••••••••\n",
      "RUN 37/100: •••••••••••••••••••••\n",
      "RUN 38/100: •••••••••••••••••••••\n",
      "RUN 39/100: •••••••••••••••••••••\n",
      "RUN 40/100: •••••••••••••••••••••\n",
      "RUN 41/100: •••••••••••••••••••••\n",
      "RUN 42/100: •••••••••••••••••••••\n",
      "RUN 43/100: •••••••••••••••••••••\n",
      "RUN 44/100: •••••••••••••••••••••\n",
      "RUN 45/100: •••••••••••••••••••••\n",
      "RUN 46/100: •••••••••••••••••••••\n",
      "RUN 47/100: •••••••••••••••••••••\n",
      "RUN 48/100: •••••••••••••••••••••\n",
      "RUN 49/100: •••••••••••••••••••••\n",
      "RUN 50/100: •••••••••••••••••••••\n",
      "RUN 51/100: •••••••••••••••••••••\n",
      "RUN 52/100: •••••••••••••••••••••\n",
      "RUN 53/100: •••••••••••••••••••••\n",
      "RUN 54/100: •••••••••••••••••••••\n",
      "RUN 55/100: •••••••••••••••••••••\n",
      "RUN 56/100: •••••••••••••••••••••\n",
      "RUN 57/100: •••••••••••••••••••••\n",
      "RUN 58/100: •••••••••••••••••••••\n",
      "RUN 59/100: •••••••••••••••••••••\n",
      "RUN 60/100: •••••••••••••••••••••\n",
      "RUN 61/100: •••••••••••••••••••••\n",
      "RUN 62/100: •••••••••••••••••••••\n",
      "RUN 63/100: •••••••••••••••••••••\n",
      "RUN 64/100: •••••••••••••••••••••\n",
      "RUN 65/100: •••••••••••••••••••••\n",
      "RUN 66/100: •••••••••••••••••••••\n",
      "RUN 67/100: •••••••••••••••••••••\n",
      "RUN 68/100: •••••••••••••••••••••\n",
      "RUN 69/100: •••••••••••••••••••••\n",
      "RUN 70/100: •••••••••••••••••••••\n",
      "RUN 71/100: •••••••••••••••••••••\n",
      "RUN 72/100: •••••••••••••••••••••\n",
      "RUN 73/100: •••••••••••••••••••••\n",
      "RUN 74/100: •••••••••••••••••••••\n",
      "RUN 75/100: •••••••••••••••••••••\n",
      "RUN 76/100: •••••••••••••••••••••\n",
      "RUN 77/100: •••••••••••••••••••••\n",
      "RUN 78/100: •••••••••••••••••••••\n",
      "RUN 79/100: •••••••••••••••••••••\n",
      "RUN 80/100: •••••••••••••••••••••\n",
      "RUN 81/100: •••••••••••••••••••••\n",
      "RUN 82/100: •••••••••••••••••••••\n",
      "RUN 83/100: •••••••••••••••••••••\n",
      "RUN 84/100: •••••••••••••••••••••\n",
      "RUN 85/100: •••••••••••••••••••••\n",
      "RUN 86/100: •••••••••••••••••••••\n",
      "RUN 87/100: •••••••••••••••••••••\n",
      "RUN 88/100: •••••••••••••••••••••\n",
      "RUN 89/100: •••••••••••••••••••••\n",
      "RUN 90/100: •••••••••••••••••••••\n",
      "RUN 91/100: •••••••••••••••••••••\n",
      "RUN 92/100: •••••••••••••••••••••\n",
      "RUN 93/100: •••••••••••••••••••••\n",
      "RUN 94/100: •••••••••••••••••••••\n",
      "RUN 95/100: •••••••••••••••••••••\n",
      "RUN 96/100: •••••••••••••••••••••\n",
      "RUN 97/100: •••••••••••••••••••••\n",
      "RUN 98/100: •••••••••••••••••••••\n",
      "RUN 99/100: •••••••••••••••••••••\n"
     ]
    }
   ],
   "source": [
    "# create your optimizer\n",
    "losses = []\n",
    "optimizer = optim.SGD(net.parameters(), lr=0.1)\n",
    "NUM_RUNS = 100\n",
    "for run_num in range(NUM_RUNS):\n",
    "    print(\"RUN\", str(run_num)+\"/\"+str(NUM_RUNS), end=\": \")\n",
    "    for i in range(len(x_train)):\n",
    "        if i % (len(x_train)//20) == 0:\n",
    "            print(\"•\", end=\"\")\n",
    "\n",
    "        input = x_train[i]\n",
    "        target = y_train[i]  # a dummy target, for example\n",
    "        # target = target.view(1, -1)  # make it the same shape as output\n",
    "        # in your training loop:\n",
    "        optimizer.zero_grad()   # zero the gradient buffers\n",
    "        output = net(input)\n",
    "        loss = criterion(output, target)\n",
    "        losses.append(loss.item())\n",
    "        loss.backward()\n",
    "        optimizer.step()    # Does the update\n",
    "    print()"
   ]
  },
  {
   "cell_type": "code",
   "execution_count": 130,
   "metadata": {},
   "outputs": [
    {
     "name": "stdout",
     "output_type": "stream",
     "text": [
      "0.003522673486892519\n"
     ]
    },
    {
     "data": {
      "image/png": "[encoded data removed]",
      "text/plain": [
       "<Figure size 640x480 with 1 Axes>"
      ]
     },
     "metadata": {},
     "output_type": "display_data"
    }
   ],
   "source": [
    "N_test = 100\n",
    "\n",
    "print(net.loss_score(x_test, y_test))\n",
    "\n",
    "plt.plot(losses)\n",
    "plt.show()"
   ]
  },
  {
   "cell_type": "code",
   "execution_count": 131,
   "metadata": {},
   "outputs": [
    {
     "name": "stdout",
     "output_type": "stream",
     "text": [
      "the\n",
      "0.05753900110721588\n"
     ]
    }
   ],
   "source": [
    "def words_around(word):\n",
    "    return net(word)\n",
    "\n",
    "l = words_around(torch.tensor(word_dict[\"live\"]))\n",
    "l1 = l[:len(l)//2]\n",
    "# l1 = l[len(l)//2:]\n",
    "max_index = -1\n",
    "for i in range(len(l1)):\n",
    "    if l1[i] >= l1[max_index]:\n",
    "        max_index = i\n",
    "print(corpus[max_index])\n",
    "print(l1[max_index].item())"
   ]
  },
  {
   "cell_type": "code",
   "execution_count": 144,
   "metadata": {},
   "outputs": [
    {
     "name": "stdout",
     "output_type": "stream",
     "text": [
      "ask\n"
     ]
    }
   ],
   "source": [
    "def embeddings(word):\n",
    "    return [v.item() for v in net.embeddings(torch.tensor(word_dict[word]))]\n",
    "def cos_similarity(a, b):\n",
    "    s = 0\n",
    "    for i in range(len(a)):\n",
    "        s += a[i] * b[i]\n",
    "    s /= sum(e**2 for e in a)**0.5\n",
    "    s /= sum(e**2 for e in b)**0.5\n",
    "    return s\n",
    "emb = [embeddings(word) for word in corpus]\n",
    "ref = embeddings(\"noticed\")\n",
    "min_i = -1\n",
    "for i in range(len(corpus)):\n",
    "    s = cos_similarity(emb[i], ref)\n",
    "    if s != 0 and s <= cos_similarity(emb[min_i], ref):\n",
    "        min_i = i\n",
    "print(corpus[min_i])\n"
   ]
  }
 ],
 "metadata": {
  "kernelspec": {
   "display_name": ".venv",
   "language": "python",
   "name": "python3"
  },
  "language_info": {
   "codemirror_mode": {
    "name": "ipython",
    "version": 3
   },
   "file_extension": ".py",
   "mimetype": "text/x-python",
   "name": "python",
   "nbconvert_exporter": "python",
   "pygments_lexer": "ipython3",
   "version": "3.11.3"
  }
 },
 "nbformat": 4,
 "nbformat_minor": 2
}
