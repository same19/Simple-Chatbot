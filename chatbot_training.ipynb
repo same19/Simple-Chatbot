{
 "cells": [
  {
   "cell_type": "markdown",
   "metadata": {},
   "source": [
    "https://jamesmccaffrey.wordpress.com/2013/11/05/why-you-should-use-cross-entropy-error-instead-of-classification-error-or-mean-squared-error-for-neural-network-classifier-training/\n",
    "\n",
    "https://www.analyticsvidhya.com/blog/2021/08/predict-the-next-word-of-your-text-using-long-short-term-memory-lstm/\n",
    "\n",
    "https://jaketae.github.io/study/pytorch-rnn/"
   ]
  },
  {
   "cell_type": "code",
   "execution_count": 71,
   "metadata": {},
   "outputs": [],
   "source": [
    "import torch\n",
    "import torch.nn as nn\n",
    "import torch.nn.functional as F\n",
    "import numpy as np\n",
    "import pandas as pd\n",
    "from net import Net_CBOW\n",
    "import torch.optim as optim\n",
    "from matplotlib import pyplot as plt\n"
   ]
  },
  {
   "cell_type": "code",
   "execution_count": 28,
   "metadata": {},
   "outputs": [],
   "source": [
    "version = \"april22_3000datalim_20epoch\"\n",
    "\n",
    "device = torch.device(\"cuda\" if torch.cuda.is_available() else \"cpu\")\n",
    "net = torch.load(f\"saves/model_{version}.pt\", map_location=device)\n",
    "vocab = torch.load(f\"saves/vocab_{version}.pt\")\n",
    "embeddings_df = torch.load(f\"saves/emb_{version}.pt\")\n",
    "embeddings_norm = torch.Tensor(np.array(embeddings_df))\n"
   ]
  },
  {
   "cell_type": "code",
   "execution_count": 123,
   "metadata": {},
   "outputs": [],
   "source": [
    "def embed(word):\n",
    "    if word not in vocab:\n",
    "        v = embeddings_df.loc[\"<unk>\"]\n",
    "    else:\n",
    "        v = embeddings_df.loc[word]\n",
    "    v = np.array(v)\n",
    "    return v\n",
    "def lookup_id(word, vocab=vocab):\n",
    "    if word not in vocab:\n",
    "        return vocab[\"<unk>\"]\n",
    "    return vocab[word]\n",
    "def lookup_token(word_id, vocab=vocab):\n",
    "    for word in vocab:\n",
    "        if vocab[word] == word_id:\n",
    "            return word\n",
    "    return None\n",
    "def get_top_similar(word_vec, embeddings_n = embeddings_norm, topN: int = 10, include_self=True):\n",
    "    word_vec = np.reshape(word_vec, (len(word_vec), 1))\n",
    "    dists = np.matmul(embeddings_n, word_vec).flatten()\n",
    "    if not include_self:\n",
    "        topN_ids = np.argsort(-dists)[1 : topN+1]\n",
    "    else:\n",
    "        topN_ids = np.argsort(-dists)[0 : topN]\n",
    "\n",
    "    topN_dict = {}\n",
    "    for sim_word_id in topN_ids:\n",
    "        sim_word = \"<unk>\"\n",
    "        for k in vocab:\n",
    "            if vocab[k] == sim_word_id:\n",
    "                sim_word = k\n",
    "                break\n",
    "        topN_dict[sim_word] = dists[sim_word_id]\n",
    "    return topN_dict\n"
   ]
  },
  {
   "cell_type": "code",
   "execution_count": 121,
   "metadata": {},
   "outputs": [
    {
     "name": "stdout",
     "output_type": "stream",
     "text": [
      "tensor([408, 240, 112, 439, 386, 513, 360, 524, 345, 674])\n"
     ]
    },
    {
     "data": {
      "text/plain": [
       "{'age': tensor(1.),\n",
       " 'university': tensor(0.8654),\n",
       " 'end': tensor(0.8309),\n",
       " 'roman': tensor(0.8190),\n",
       " 'no.': tensor(0.8090),\n",
       " 'archaeological': tensor(0.8087),\n",
       " 'point': tensor(0.8050),\n",
       " 'archaeology': tensor(0.7999),\n",
       " 'period': tensor(0.7940),\n",
       " 'front': tensor(0.7763)}"
      ]
     },
     "execution_count": 121,
     "metadata": {},
     "output_type": "execute_result"
    }
   ],
   "source": [
    "get_top_similar(embeddings_df.loc[\"age\"], topN=10)"
   ]
  },
  {
   "cell_type": "code",
   "execution_count": 30,
   "metadata": {},
   "outputs": [],
   "source": [
    "from datasets import load_dataset\n",
    "wikitext2 = load_dataset(\"wikitext\", \"wikitext-2-v1\")"
   ]
  },
  {
   "cell_type": "code",
   "execution_count": 31,
   "metadata": {},
   "outputs": [
    {
     "data": {
      "text/plain": [
       "23767"
      ]
     },
     "execution_count": 31,
     "metadata": {},
     "output_type": "execute_result"
    }
   ],
   "source": [
    "text_train = wikitext2[\"train\"]['text']\n",
    "text_train = [item.lower().strip() for item in text_train if len(item) > 0]\n",
    "text_test = wikitext2[\"test\"]['text']\n",
    "text_test = [item.lower().strip() for item in text_test if len(item) > 0]\n",
    "len(text_train)"
   ]
  },
  {
   "cell_type": "code",
   "execution_count": 32,
   "metadata": {},
   "outputs": [],
   "source": [
    "text_train = [item.split(\" \") + [\"\\n\"] for item in text_train if \"=\" not in item]\n",
    "text_test = [item.split(\" \") + [\"\\n\"] for item in text_test if \"=\" not in item]"
   ]
  },
  {
   "cell_type": "code",
   "execution_count": 55,
   "metadata": {},
   "outputs": [
    {
     "data": {
      "text/plain": [
       "17532"
      ]
     },
     "execution_count": 55,
     "metadata": {},
     "output_type": "execute_result"
    }
   ],
   "source": [
    "enc_text_train = [[lookup_id(word) for word in paragraph] for paragraph in text_train]\n",
    "enc_text_test = [[lookup_id(word) for word in paragraph] for paragraph in text_test]\n",
    "len(enc_text_train)"
   ]
  },
  {
   "cell_type": "code",
   "execution_count": 90,
   "metadata": {},
   "outputs": [],
   "source": [
    "SCANNING_WINDOW = 10\n",
    "\n",
    "def get_data(index, window, data):\n",
    "    a = [float(a) for a in data[index-window:index]]\n",
    "    x = []\n",
    "    for word_id in a:\n",
    "        x += list(embeddings_df.loc[lookup_token(word_id)])\n",
    "\n",
    "    b = data[index]\n",
    "    y = list(embeddings_df.loc[lookup_token(b)])\n",
    "        \n",
    "    return x, y"
   ]
  },
  {
   "cell_type": "code",
   "execution_count": 91,
   "metadata": {},
   "outputs": [
    {
     "name": "stdout",
     "output_type": "stream",
     "text": [
      "Done collating training data. Moving on to test data.\n"
     ]
    }
   ],
   "source": [
    "x_train = []\n",
    "y_train = []\n",
    "for paragraph in enc_text_train:\n",
    "    for i in range(SCANNING_WINDOW, len(paragraph)):\n",
    "        if paragraph[i] == vocab[\"<unk>\"]:\n",
    "            continue\n",
    "        a, b = get_data(i, SCANNING_WINDOW, paragraph)\n",
    "        x_train.append(a)\n",
    "        y_train.append(b)\n",
    "len(x_train)"
   ]
  },
  {
   "cell_type": "code",
   "execution_count": null,
   "metadata": {},
   "outputs": [],
   "source": [
    "x_test = []\n",
    "y_test = []\n",
    "for paragraph in enc_text_test:\n",
    "    for i in range(SCANNING_WINDOW, len(paragraph)):\n",
    "        if paragraph[i] == vocab[\"<unk>\"]:\n",
    "            continue\n",
    "        a, b = get_data(i, SCANNING_WINDOW, paragraph)\n",
    "        x_test.append(a)\n",
    "        y_test.append(b)\n",
    "len(x_test)"
   ]
  },
  {
   "cell_type": "code",
   "execution_count": 291,
   "metadata": {},
   "outputs": [],
   "source": [
    "EMBED_DIMENSION = 50\n",
    "MIDDLE_LAYER = 100\n",
    "class Predict(nn.Module):\n",
    "    def __init__(self, scanning_window : int = SCANNING_WINDOW, embed_dimension : int = EMBED_DIMENSION):\n",
    "        super(Predict, self).__init__()\n",
    "        self.ln1 = nn.Linear(\n",
    "            in_features=embed_dimension*scanning_window,\n",
    "            out_features=MIDDLE_LAYER\n",
    "        )\n",
    "        self.ln2 = nn.Linear(\n",
    "            in_features=MIDDLE_LAYER,\n",
    "            out_features=embed_dimension\n",
    "        )\n",
    "    def forward(self, inputs):\n",
    "        x = F.sigmoid(self.ln1(inputs))\n",
    "        x = self.ln2(x)\n",
    "        return x\n",
    "    def predict(self, inputs):\n",
    "        return F.softmax(self.forward(inputs))"
   ]
  },
  {
   "cell_type": "code",
   "execution_count": 292,
   "metadata": {},
   "outputs": [],
   "source": [
    "net = Predict(SCANNING_WINDOW, EMBED_DIMENSION)\n",
    "params = list(net.parameters())\n",
    "net.zero_grad()\n",
    "criterion = nn.CrossEntropyLoss()\n",
    "losses = []\n",
    "epoch_losses = []"
   ]
  },
  {
   "cell_type": "code",
   "execution_count": 293,
   "metadata": {},
   "outputs": [],
   "source": [
    "NUM_EPOCHS = 20\n",
    "optimizer = optim.Adam(net.parameters(), lr=0.025)\n",
    "scheduler = optim.lr_scheduler.LinearLR(optimizer, 1.0, 0.0, total_iters=NUM_EPOCHS)"
   ]
  },
  {
   "cell_type": "code",
   "execution_count": 294,
   "metadata": {},
   "outputs": [
    {
     "name": "stdout",
     "output_type": "stream",
     "text": [
      "RUN 1/20: •[-46.60514457138998]\n",
      "\n",
      "RUN 2/20: •[-90.54940175452629]\n",
      "\n",
      "RUN 3/20: •[-132.2501689696321]\n",
      "\n",
      "RUN 4/20: •[-171.66158684337682]\n",
      "\n",
      "RUN 5/20: •[-208.84629845196514]\n",
      "\n",
      "RUN 6/20: •[-243.84507644359445]\n",
      "\n",
      "RUN 7/20: •[-276.6362647684267]\n",
      "\n",
      "RUN 8/20: •[-307.2060397346955]\n",
      "\n",
      "RUN 9/20: •[-335.4635582724364]\n",
      "\n",
      "RUN 10/20: •[-361.4402188864306]\n",
      "\n",
      "RUN 11/20: •[-385.11683312536593]\n",
      "\n",
      "RUN 12/20: •[-406.50006213453815]\n",
      "\n",
      "RUN 13/20: •[-425.5591591177277]\n",
      "\n",
      "RUN 14/20: •[-442.2874240144611]\n",
      "\n",
      "RUN 15/20: •[-456.6681063967632]\n",
      "\n",
      "RUN 16/20: •[-468.68728485330155]\n",
      "\n",
      "RUN 17/20: •[-478.3265010148843]\n",
      "\n",
      "RUN 18/20: •[-485.57298924144027]\n",
      "\n",
      "RUN 19/20: •[-490.41479898379265]\n",
      "\n",
      "RUN 20/20: •[-492.84169773860657]\n",
      "\n"
     ]
    }
   ],
   "source": [
    "for epoch in range(NUM_EPOCHS):\n",
    "    print(\"RUN\", str(epoch+1)+\"/\"+str(NUM_EPOCHS), end=\": \")\n",
    "    for index in range(len(x_train[:1000])):\n",
    "        if index % (len(x_train)//100) == 0:\n",
    "            print(\"•\", end=\"\")\n",
    "\n",
    "        context, target = x_train[index], y_train[index]\n",
    "        optimizer.zero_grad()   # zero the gradient buffers\n",
    "        output = net(torch.tensor(context))\n",
    "        loss = criterion(output, torch.tensor(target))\n",
    "        loss.backward()\n",
    "        optimizer.step()    # Does the update\n",
    "    epoch_loss = 0\n",
    "    for context, target in zip(x_test[:1000], y_test[:1000]):\n",
    "    # for context, target in zip(x_train[:1000], y_train[:1000]):\n",
    "        output = net(torch.tensor(context))\n",
    "        losses.append(criterion(output, torch.tensor(target)).item())\n",
    "        epoch_loss += losses[-1]\n",
    "    epoch_loss /= len(x_test)\n",
    "    epoch_losses.append(epoch_loss)\n",
    "    \n",
    "    print(f\"[{epoch_loss}]\")\n",
    "    scheduler.step()\n",
    "    print()"
   ]
  },
  {
   "cell_type": "code",
   "execution_count": 295,
   "metadata": {},
   "outputs": [
    {
     "data": {
      "image/png": "[encoded data removed]",
      "text/plain": [
       "<Figure size 640x480 with 1 Axes>"
      ]
     },
     "metadata": {},
     "output_type": "display_data"
    }
   ],
   "source": [
    "plt.plot(epoch_losses)\n",
    "plt.show()\n"
   ]
  },
  {
   "cell_type": "code",
   "execution_count": 296,
   "metadata": {},
   "outputs": [
    {
     "data": {
      "image/png": "[encoded data removed]",
      "text/plain": [
       "<Figure size 640x480 with 1 Axes>"
      ]
     },
     "metadata": {},
     "output_type": "display_data"
    }
   ],
   "source": [
    "plt.plot(losses)\n",
    "plt.show()"
   ]
  },
  {
   "cell_type": "code",
   "execution_count": 297,
   "metadata": {},
   "outputs": [
    {
     "name": "stdout",
     "output_type": "stream",
     "text": [
      "context ['the', 'book', 'and', 'the', 'novel', 'are', 'the', 'best', 'type', 'of']\n",
      "['community', 'institute', 'moved', 'army', 'began', 'return', 'week', 'canada', '13', 'move']\n",
      "['the', 'book', 'and', 'the', 'novel', 'are', 'the', 'best', 'type', 'of', 'community', '<unk>']\n",
      "context ['book', 'and', 'the', 'novel', 'are', 'the', 'best', 'type', 'of', 'community']\n",
      "['community', 'institute', 'moved', 'army', 'began', 'return', 'week', 'canada', '13', 'move']\n",
      "['the', 'book', 'and', 'the', 'novel', 'are', 'the', 'best', 'type', 'of', 'community', 'community', '<unk>']\n",
      "context ['and', 'the', 'novel', 'are', 'the', 'best', 'type', 'of', 'community', 'community']\n",
      "['community', 'institute', 'moved', 'army', 'began', 'return', 'week', 'canada', '13', 'move']\n",
      "['the', 'book', 'and', 'the', 'novel', 'are', 'the', 'best', 'type', 'of', 'community', 'community', 'community', '<unk>']\n",
      "context ['the', 'novel', 'are', 'the', 'best', 'type', 'of', 'community', 'community', 'community']\n"
     ]
    },
    {
     "name": "stderr",
     "output_type": "stream",
     "text": [
      "/var/folders/r4/fbbvmvd16633t8bw5262q18c0000gn/T/ipykernel_58196/3414688340.py:19: UserWarning: Implicit dimension choice for softmax has been deprecated. Change the call to include dim=X as an argument.\n",
      "  return F.softmax(self.forward(inputs))\n"
     ]
    },
    {
     "name": "stdout",
     "output_type": "stream",
     "text": [
      "['community', 'institute', 'moved', 'army', 'began', 'return', 'week', 'canada', '13', 'move']\n",
      "['the', 'book', 'and', 'the', 'novel', 'are', 'the', 'best', 'type', 'of', 'community', 'community', 'community', 'community', '<unk>']\n",
      "context ['novel', 'are', 'the', 'best', 'type', 'of', 'community', 'community', 'community', 'community']\n",
      "['community', 'institute', 'moved', 'army', 'began', 'return', 'week', 'canada', '13', 'move']\n",
      "['the', 'book', 'and', 'the', 'novel', 'are', 'the', 'best', 'type', 'of', 'community', 'community', 'community', 'community', 'community', '<unk>']\n",
      "context ['are', 'the', 'best', 'type', 'of', 'community', 'community', 'community', 'community', 'community']\n",
      "['community', 'institute', 'moved', 'army', 'began', 'return', 'week', 'canada', '13', 'move']\n",
      "['the', 'book', 'and', 'the', 'novel', 'are', 'the', 'best', 'type', 'of', 'community', 'community', 'community', 'community', 'community', 'community', '<unk>']\n",
      "context ['the', 'best', 'type', 'of', 'community', 'community', 'community', 'community', 'community', 'community']\n",
      "['community', 'institute', 'moved', 'army', 'began', 'return', 'week', 'canada', '13', 'move']\n",
      "['the', 'book', 'and', 'the', 'novel', 'are', 'the', 'best', 'type', 'of', 'community', 'community', 'community', 'community', 'community', 'community', 'community', '<unk>']\n",
      "context ['best', 'type', 'of', 'community', 'community', 'community', 'community', 'community', 'community', 'community']\n",
      "['community', 'institute', 'moved', 'army', 'began', 'return', 'week', 'canada', '13', 'move']\n",
      "['the', 'book', 'and', 'the', 'novel', 'are', 'the', 'best', 'type', 'of', 'community', 'community', 'community', 'community', 'community', 'community', 'community', 'community', '<unk>']\n",
      "context ['type', 'of', 'community', 'community', 'community', 'community', 'community', 'community', 'community', 'community']\n",
      "['community', 'institute', 'moved', 'army', 'began', 'return', 'week', 'canada', '13', 'move']\n",
      "['the', 'book', 'and', 'the', 'novel', 'are', 'the', 'best', 'type', 'of', 'community', 'community', 'community', 'community', 'community', 'community', 'community', 'community', 'community', '<unk>']\n",
      "context ['of', 'community', 'community', 'community', 'community', 'community', 'community', 'community', 'community', 'community']\n",
      "['community', 'institute', 'moved', 'army', 'began', 'return', 'week', 'canada', '13', 'move']\n",
      "['the', 'book', 'and', 'the', 'novel', 'are', 'the', 'best', 'type', 'of', 'community', 'community', 'community', 'community', 'community', 'community', 'community', 'community', 'community', 'community', '<unk>']\n"
     ]
    }
   ],
   "source": [
    "sentence = \"the book and the novel are the best type of <unk>\"\n",
    "sentence = [vocab[a.lower()] for a in sentence.split(\" \")]\n",
    "index = 10\n",
    "last_word = \"of\"\n",
    "for i in range(10):\n",
    "    context, middle = get_data(index + i, window=SCANNING_WINDOW, data=sentence)\n",
    "    print('context',[list(get_top_similar(context[i*EMBED_DIMENSION:(i+1)*EMBED_DIMENSION], topN=1).keys())[0] for i in range(SCANNING_WINDOW)])\n",
    "    predicted_word = list(get_top_similar(net.predict(torch.tensor(context)).detach(), topN=10).keys())\n",
    "    print(predicted_word)\n",
    "    predicted_word = predicted_word[0]\n",
    "    # if predicted_word[0] == last_word:\n",
    "    #     predicted_word = predicted_word[1]\n",
    "    # else:\n",
    "        # predicted_word = predicted_word[0]\n",
    "    last_word = predicted_word\n",
    "    sentence.insert(index + i, vocab[predicted_word])\n",
    "    print([lookup_token(a) for a in sentence])"
   ]
  }
 ],
 "metadata": {
  "kernelspec": {
   "display_name": ".venv",
   "language": "python",
   "name": "python3"
  },
  "language_info": {
   "codemirror_mode": {
    "name": "ipython",
    "version": 3
   },
   "file_extension": ".py",
   "mimetype": "text/x-python",
   "name": "python",
   "nbconvert_exporter": "python",
   "pygments_lexer": "ipython3",
   "version": "3.11.3"
  }
 },
 "nbformat": 4,
 "nbformat_minor": 2
}
