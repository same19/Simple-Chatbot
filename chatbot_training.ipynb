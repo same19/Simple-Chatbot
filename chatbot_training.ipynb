{
 "cells": [
  {
   "cell_type": "markdown",
   "metadata": {},
   "source": [
    "https://jamesmccaffrey.wordpress.com/2013/11/05/why-you-should-use-cross-entropy-error-instead-of-classification-error-or-mean-squared-error-for-neural-network-classifier-training/\n",
    "\n",
    "https://www.analyticsvidhya.com/blog/2021/08/predict-the-next-word-of-your-text-using-long-short-term-memory-lstm/\n",
    "\n",
    "https://jaketae.github.io/study/pytorch-rnn/\n",
    "\n",
    "https://www.analyticsvidhya.com/blog/2021/03/introduction-to-long-short-term-memory-lstm/\n",
    "\n",
    "https://towardsdatascience.com/bert-explained-state-of-the-art-language-model-for-nlp-f8b21a9b6270"
   ]
  },
  {
   "cell_type": "code",
   "execution_count": 73,
   "metadata": {},
   "outputs": [],
   "source": [
    "import torch\n",
    "import torch.nn as nn\n",
    "import torch.nn.functional as F\n",
    "import numpy as np\n",
    "import pandas as pd\n",
    "from net import Net_CBOW\n",
    "import torch.optim as optim\n",
    "from matplotlib import pyplot as plt\n",
    "import sys\n"
   ]
  },
  {
   "cell_type": "code",
   "execution_count": 126,
   "metadata": {},
   "outputs": [],
   "source": [
    "version = \"april22_3000datalim_20epoch\"\n",
    "\n",
    "device = torch.device(\"cuda\" if torch.cuda.is_available() else \"cpu\")\n",
    "net = torch.load(f\"saves/model_{version}.pt\", map_location=device)\n",
    "vocab = torch.load(f\"saves/vocab_{version}.pt\")\n",
    "embeddings_df = torch.load(f\"saves/emb_{version}.pt\")\n",
    "embeddings_mat = torch.Tensor(np.array(embeddings_df))"
   ]
  },
  {
   "cell_type": "code",
   "execution_count": 127,
   "metadata": {},
   "outputs": [],
   "source": [
    "def embed(word):\n",
    "    if word not in vocab:\n",
    "        v = embeddings_df.loc[\"<unk>\"]\n",
    "    else:\n",
    "        v = embeddings_df.loc[word]\n",
    "    v = np.array(v)\n",
    "    return v\n",
    "def lookup_id(word, vocab=vocab):\n",
    "    if word not in vocab:\n",
    "        return vocab[\"<unk>\"]\n",
    "    return vocab[word]\n",
    "def lookup_token(word_id, vocab=vocab):\n",
    "    for word in vocab:\n",
    "        if vocab[word] == word_id:\n",
    "            return word\n",
    "    return None\n",
    "def get_top_similar(word_vec, embeddings_n = embeddings_norm, topN: int = 10, include_self=True):\n",
    "    word_vec = np.reshape(word_vec, (len(word_vec), 1))\n",
    "    dists = np.matmul(embeddings_n, word_vec).flatten()\n",
    "    if not include_self:\n",
    "        topN_ids = np.argsort(-dists)[1 : topN+1]\n",
    "    else:\n",
    "        topN_ids = np.argsort(-dists)[0 : topN]\n",
    "\n",
    "    topN_dict = {}\n",
    "    for sim_word_id in topN_ids:\n",
    "        sim_word = \"<unk>\"\n",
    "        for k in vocab:\n",
    "            if vocab[k] == sim_word_id:\n",
    "                sim_word = k\n",
    "                break\n",
    "        topN_dict[sim_word] = dists[sim_word_id]\n",
    "    return topN_dict\n"
   ]
  },
  {
   "cell_type": "code",
   "execution_count": 128,
   "metadata": {},
   "outputs": [
    {
     "data": {
      "text/plain": [
       "{'no': tensor(1.0000),\n",
       " '50': tensor(0.7276),\n",
       " 'thought': tensor(0.6556),\n",
       " 'these': tensor(0.6263),\n",
       " 'others': tensor(0.6258),\n",
       " 'more': tensor(0.6221),\n",
       " 'often': tensor(0.6187),\n",
       " 'small': tensor(0.6130),\n",
       " 'black': tensor(0.6128),\n",
       " '...': tensor(0.6102)}"
      ]
     },
     "execution_count": 128,
     "metadata": {},
     "output_type": "execute_result"
    }
   ],
   "source": [
    "get_top_similar(embeddings_df.loc[\"no\"], topN=10)"
   ]
  },
  {
   "cell_type": "code",
   "execution_count": 129,
   "metadata": {},
   "outputs": [
    {
     "data": {
      "text/plain": [
       "208"
      ]
     },
     "execution_count": 129,
     "metadata": {},
     "output_type": "execute_result"
    }
   ],
   "source": [
    "from datasets import load_dataset\n",
    "wikitext2 = load_dataset(\"wikitext\", \"wikitext-2-v1\")\n",
    "sys.getsizeof(wikitext2)"
   ]
  },
  {
   "cell_type": "code",
   "execution_count": 130,
   "metadata": {},
   "outputs": [
    {
     "data": {
      "text/plain": [
       "2891"
      ]
     },
     "execution_count": 130,
     "metadata": {},
     "output_type": "execute_result"
    }
   ],
   "source": [
    "text_train = wikitext2[\"train\"]['text']\n",
    "text_train = [item.lower().strip() for item in text_train if len(item) > 0]\n",
    "text_test = wikitext2[\"test\"]['text']\n",
    "text_test = [item.lower().strip() for item in text_test if len(item) > 0]\n",
    "len(text_test)"
   ]
  },
  {
   "cell_type": "code",
   "execution_count": 131,
   "metadata": {},
   "outputs": [],
   "source": [
    "text_train = [item.split(\" \") + [\"\\n\"] for item in text_train if \"=\" not in item]\n",
    "text_test = [item.split(\" \") + [\"\\n\"] for item in text_test if \"=\" not in item]"
   ]
  },
  {
   "cell_type": "code",
   "execution_count": 132,
   "metadata": {},
   "outputs": [
    {
     "data": {
      "text/plain": [
       "18232"
      ]
     },
     "execution_count": 132,
     "metadata": {},
     "output_type": "execute_result"
    }
   ],
   "source": [
    "enc_text_train = [[lookup_id(word) for word in paragraph] for paragraph in text_train]\n",
    "enc_text_test = [[lookup_id(word) for word in paragraph] for paragraph in text_test]\n",
    "sys.getsizeof(enc_text_test)"
   ]
  },
  {
   "cell_type": "code",
   "execution_count": 148,
   "metadata": {},
   "outputs": [],
   "source": [
    "SCANNING_WINDOW = 5\n",
    "def get_data(index, window, data):\n",
    "    x = []\n",
    "    for word_id in data[index-window:index]:\n",
    "        x.append([list(embeddings_df.iloc[word_id])])\n",
    "    \n",
    "    b = data[index]\n",
    "    y = list(embeddings_df.iloc[b])\n",
    "        \n",
    "    x = torch.tensor(x).view(SCANNING_WINDOW,1,len(x[0][0]))\n",
    "    y = torch.tensor(y)\n",
    "    return x,y"
   ]
  },
  {
   "cell_type": "code",
   "execution_count": 149,
   "metadata": {},
   "outputs": [
    {
     "name": "stdout",
     "output_type": "stream",
     "text": [
      "x -> y\n"
     ]
    },
    {
     "data": {
      "text/plain": [
       "2200"
      ]
     },
     "execution_count": 149,
     "metadata": {},
     "output_type": "execute_result"
    }
   ],
   "source": [
    "x_train = [[get_data(i, SCANNING_WINDOW, paragraph)[0] for i in range(SCANNING_WINDOW, len(paragraph)) if paragraph[i] != vocab[\"<unk>\"]] for paragraph in enc_text_train[:250]]\n",
    "print(\"x -> y\")\n",
    "y_train = [[get_data(i, SCANNING_WINDOW, paragraph)[1] for i in range(SCANNING_WINDOW, len(paragraph)) if paragraph[i] != vocab[\"<unk>\"]] for paragraph in enc_text_train[:250]]\n",
    "sys.getsizeof(x_train)"
   ]
  },
  {
   "cell_type": "code",
   "execution_count": 150,
   "metadata": {},
   "outputs": [
    {
     "name": "stdout",
     "output_type": "stream",
     "text": [
      "x -> y\n"
     ]
    },
    {
     "data": {
      "text/plain": [
       "250"
      ]
     },
     "execution_count": 150,
     "metadata": {},
     "output_type": "execute_result"
    }
   ],
   "source": [
    "x_test = [[get_data(i, SCANNING_WINDOW, paragraph)[0] for i in range(SCANNING_WINDOW, len(paragraph)) if paragraph[i] != vocab[\"<unk>\"]] for paragraph in enc_text_test[:250]]\n",
    "print(\"x -> y\")\n",
    "y_test = [[get_data(i, SCANNING_WINDOW, paragraph)[1] for i in range(SCANNING_WINDOW, len(paragraph)) if paragraph[i] != vocab[\"<unk>\"]] for paragraph in enc_text_test[:250]]\n",
    "len(x_test)"
   ]
  },
  {
   "cell_type": "code",
   "execution_count": 155,
   "metadata": {},
   "outputs": [],
   "source": [
    "EMBED_DIMENSION = 50\n",
    "MIDDLE_LAYER = 64\n",
    "HIDDEN_LAYER = 50\n",
    "class Predict(nn.Module):\n",
    "    def __init__(self, hidden_size = HIDDEN_LAYER, embed_dimension : int = EMBED_DIMENSION):\n",
    "        super(Predict, self).__init__()\n",
    "        self.hidden_size = hidden_size\n",
    "        self.in2hidden = nn.Linear(embed_dimension*SCANNING_WINDOW + hidden_size, hidden_size)\n",
    "        self.in2middle = nn.Linear(embed_dimension*SCANNING_WINDOW + hidden_size, MIDDLE_LAYER)\n",
    "        self.middle2out = nn.Linear(MIDDLE_LAYER, embed_dimension)\n",
    "\n",
    "    def forward(self, x, hidden):\n",
    "        comb = torch.cat((x, hidden), 1)\n",
    "        hidden = torch.sigmoid(self.in2hidden(comb))\n",
    "        next = F.relu(self.in2middle(comb))\n",
    "        next = F.softmax(self.middle2out(next))\n",
    "        return x, hidden\n",
    "    \n",
    "    def predict(self, inputs):\n",
    "        return self.forward(inputs)\n",
    "\n",
    "    def init_hidden(self):\n",
    "        return nn.init.kaiming_uniform_(torch.empty(1, self.hidden_size))"
   ]
  },
  {
   "cell_type": "code",
   "execution_count": 156,
   "metadata": {},
   "outputs": [],
   "source": [
    "net = Predict(EMBED_DIMENSION)\n",
    "params = list(net.parameters())\n",
    "net.zero_grad()\n",
    "criterion = nn.MSELoss()\n",
    "losses = []\n",
    "epoch_losses = []"
   ]
  },
  {
   "cell_type": "code",
   "execution_count": 157,
   "metadata": {},
   "outputs": [],
   "source": [
    "NUM_EPOCHS = 10\n",
    "optimizer = optim.Adam(net.parameters(), lr=0.025)\n",
    "scheduler = optim.lr_scheduler.LinearLR(optimizer, 1.0, 0.0, total_iters=NUM_EPOCHS)"
   ]
  },
  {
   "cell_type": "code",
   "execution_count": 159,
   "metadata": {},
   "outputs": [
    {
     "name": "stdout",
     "output_type": "stream",
     "text": [
      "RUN 1/10: •"
     ]
    },
    {
     "ename": "RuntimeError",
     "evalue": "Tensors must have same number of dimensions: got 3 and 2",
     "output_type": "error",
     "traceback": [
      "\u001b[0;31m---------------------------------------------------------------------------\u001b[0m",
      "\u001b[0;31mRuntimeError\u001b[0m                              Traceback (most recent call last)",
      "Cell \u001b[0;32mIn[159], line 9\u001b[0m\n\u001b[1;32m      7\u001b[0m \u001b[38;5;28;01mfor\u001b[39;00m word_index \u001b[38;5;129;01min\u001b[39;00m \u001b[38;5;28mrange\u001b[39m(\u001b[38;5;28mlen\u001b[39m(x_train[index])):\n\u001b[1;32m      8\u001b[0m     context, target \u001b[38;5;241m=\u001b[39m x_train[index][word_index], y_train[index][word_index]\n\u001b[0;32m----> 9\u001b[0m     output, hidden \u001b[38;5;241m=\u001b[39m \u001b[43mnet\u001b[49m\u001b[43m(\u001b[49m\u001b[43mcontext\u001b[49m\u001b[43m,\u001b[49m\u001b[43m \u001b[49m\u001b[43mhidden\u001b[49m\u001b[43m)\u001b[49m\n\u001b[1;32m     10\u001b[0m loss \u001b[38;5;241m=\u001b[39m criterion(output, y_train[index])\n\u001b[1;32m     11\u001b[0m optimizer\u001b[38;5;241m.\u001b[39mzero_grad()   \u001b[38;5;66;03m# zero the gradient buffers\u001b[39;00m\n",
      "File \u001b[0;32m~/Documents/Code/Simple Chatbot/.venv/lib/python3.11/site-packages/torch/nn/modules/module.py:1511\u001b[0m, in \u001b[0;36mModule._wrapped_call_impl\u001b[0;34m(self, *args, **kwargs)\u001b[0m\n\u001b[1;32m   1509\u001b[0m     \u001b[38;5;28;01mreturn\u001b[39;00m \u001b[38;5;28mself\u001b[39m\u001b[38;5;241m.\u001b[39m_compiled_call_impl(\u001b[38;5;241m*\u001b[39margs, \u001b[38;5;241m*\u001b[39m\u001b[38;5;241m*\u001b[39mkwargs)  \u001b[38;5;66;03m# type: ignore[misc]\u001b[39;00m\n\u001b[1;32m   1510\u001b[0m \u001b[38;5;28;01melse\u001b[39;00m:\n\u001b[0;32m-> 1511\u001b[0m     \u001b[38;5;28;01mreturn\u001b[39;00m \u001b[38;5;28;43mself\u001b[39;49m\u001b[38;5;241;43m.\u001b[39;49m\u001b[43m_call_impl\u001b[49m\u001b[43m(\u001b[49m\u001b[38;5;241;43m*\u001b[39;49m\u001b[43margs\u001b[49m\u001b[43m,\u001b[49m\u001b[43m \u001b[49m\u001b[38;5;241;43m*\u001b[39;49m\u001b[38;5;241;43m*\u001b[39;49m\u001b[43mkwargs\u001b[49m\u001b[43m)\u001b[49m\n",
      "File \u001b[0;32m~/Documents/Code/Simple Chatbot/.venv/lib/python3.11/site-packages/torch/nn/modules/module.py:1520\u001b[0m, in \u001b[0;36mModule._call_impl\u001b[0;34m(self, *args, **kwargs)\u001b[0m\n\u001b[1;32m   1515\u001b[0m \u001b[38;5;66;03m# If we don't have any hooks, we want to skip the rest of the logic in\u001b[39;00m\n\u001b[1;32m   1516\u001b[0m \u001b[38;5;66;03m# this function, and just call forward.\u001b[39;00m\n\u001b[1;32m   1517\u001b[0m \u001b[38;5;28;01mif\u001b[39;00m \u001b[38;5;129;01mnot\u001b[39;00m (\u001b[38;5;28mself\u001b[39m\u001b[38;5;241m.\u001b[39m_backward_hooks \u001b[38;5;129;01mor\u001b[39;00m \u001b[38;5;28mself\u001b[39m\u001b[38;5;241m.\u001b[39m_backward_pre_hooks \u001b[38;5;129;01mor\u001b[39;00m \u001b[38;5;28mself\u001b[39m\u001b[38;5;241m.\u001b[39m_forward_hooks \u001b[38;5;129;01mor\u001b[39;00m \u001b[38;5;28mself\u001b[39m\u001b[38;5;241m.\u001b[39m_forward_pre_hooks\n\u001b[1;32m   1518\u001b[0m         \u001b[38;5;129;01mor\u001b[39;00m _global_backward_pre_hooks \u001b[38;5;129;01mor\u001b[39;00m _global_backward_hooks\n\u001b[1;32m   1519\u001b[0m         \u001b[38;5;129;01mor\u001b[39;00m _global_forward_hooks \u001b[38;5;129;01mor\u001b[39;00m _global_forward_pre_hooks):\n\u001b[0;32m-> 1520\u001b[0m     \u001b[38;5;28;01mreturn\u001b[39;00m \u001b[43mforward_call\u001b[49m\u001b[43m(\u001b[49m\u001b[38;5;241;43m*\u001b[39;49m\u001b[43margs\u001b[49m\u001b[43m,\u001b[49m\u001b[43m \u001b[49m\u001b[38;5;241;43m*\u001b[39;49m\u001b[38;5;241;43m*\u001b[39;49m\u001b[43mkwargs\u001b[49m\u001b[43m)\u001b[49m\n\u001b[1;32m   1522\u001b[0m \u001b[38;5;28;01mtry\u001b[39;00m:\n\u001b[1;32m   1523\u001b[0m     result \u001b[38;5;241m=\u001b[39m \u001b[38;5;28;01mNone\u001b[39;00m\n",
      "Cell \u001b[0;32mIn[155], line 13\u001b[0m, in \u001b[0;36mPredict.forward\u001b[0;34m(self, x, hidden)\u001b[0m\n\u001b[1;32m     12\u001b[0m \u001b[38;5;28;01mdef\u001b[39;00m \u001b[38;5;21mforward\u001b[39m(\u001b[38;5;28mself\u001b[39m, x, hidden):\n\u001b[0;32m---> 13\u001b[0m     comb \u001b[38;5;241m=\u001b[39m \u001b[43mtorch\u001b[49m\u001b[38;5;241;43m.\u001b[39;49m\u001b[43mcat\u001b[49m\u001b[43m(\u001b[49m\u001b[43m(\u001b[49m\u001b[43mx\u001b[49m\u001b[43m,\u001b[49m\u001b[43m \u001b[49m\u001b[43mhidden\u001b[49m\u001b[43m)\u001b[49m\u001b[43m,\u001b[49m\u001b[43m \u001b[49m\u001b[38;5;241;43m1\u001b[39;49m\u001b[43m)\u001b[49m\n\u001b[1;32m     14\u001b[0m     hidden \u001b[38;5;241m=\u001b[39m torch\u001b[38;5;241m.\u001b[39msigmoid(\u001b[38;5;28mself\u001b[39m\u001b[38;5;241m.\u001b[39min2hidden(comb))\n\u001b[1;32m     15\u001b[0m     \u001b[38;5;28mnext\u001b[39m \u001b[38;5;241m=\u001b[39m F\u001b[38;5;241m.\u001b[39mrelu(\u001b[38;5;28mself\u001b[39m\u001b[38;5;241m.\u001b[39min2middle(comb))\n",
      "\u001b[0;31mRuntimeError\u001b[0m: Tensors must have same number of dimensions: got 3 and 2"
     ]
    }
   ],
   "source": [
    "for epoch in range(NUM_EPOCHS):\n",
    "    print(\"RUN\", str(epoch+1)+\"/\"+str(NUM_EPOCHS), end=\": \")\n",
    "    for index in range(len(x_train[:100])):\n",
    "        if index % (len(x_train)//10) == 0:\n",
    "            print(\"•\", end=\"\")\n",
    "        hidden = net.init_hidden()\n",
    "        for word_index in range(len(x_train[index])):\n",
    "            context, target = x_train[index][word_index], y_train[index][word_index]\n",
    "            output, hidden = net(context, hidden)\n",
    "        loss = criterion(output, y_train[index])\n",
    "        optimizer.zero_grad()   # zero the gradient buffers\n",
    "        loss.backward()\n",
    "        optimizer.step()    # Does the update\n",
    "    epoch_loss = 0\n",
    "    for contextparagraph, targetparagraph in zip(x_test[:50], y_test[:50]):\n",
    "        hidden = net.init_hidden()\n",
    "        for context, target in zip(contextparagraph, targetparagraph):\n",
    "            output, hidden = net(context, hidden)\n",
    "        losses.append(criterion(output, targetparagraph).item())\n",
    "        epoch_loss += losses[-1]\n",
    "    epoch_loss /= len(x_test)\n",
    "    epoch_losses.append(epoch_loss)\n",
    "    \n",
    "    print(f\"[{epoch_loss}]\")\n",
    "    scheduler.step()\n",
    "    print()"
   ]
  },
  {
   "cell_type": "code",
   "execution_count": null,
   "metadata": {},
   "outputs": [],
   "source": [
    "plt.plot(epoch_losses)\n",
    "plt.show()\n"
   ]
  },
  {
   "cell_type": "code",
   "execution_count": null,
   "metadata": {},
   "outputs": [],
   "source": [
    "plt.plot(losses)\n",
    "plt.show()"
   ]
  },
  {
   "cell_type": "code",
   "execution_count": null,
   "metadata": {},
   "outputs": [],
   "source": [
    "sentence = \"the book and the novel are the best type of <unk>\"\n",
    "sentence = [vocab[a.lower()] for a in sentence.split(\" \")]\n",
    "index = 10\n",
    "last_word = \"of\"\n",
    "for i in range(10):\n",
    "    context, middle = get_data(index + i, window=SCANNING_WINDOW, data=sentence)\n",
    "    print('context',[list(get_top_similar(context[i*EMBED_DIMENSION:(i+1)*EMBED_DIMENSION], topN=1).keys())[0] for i in range(SCANNING_WINDOW)])\n",
    "    predicted_word = list(get_top_similar(net.predict(torch.tensor(context)).detach(), topN=10).keys())\n",
    "    print(predicted_word)\n",
    "    predicted_word = predicted_word[0]\n",
    "    # if predicted_word[0] == last_word:\n",
    "    #     predicted_word = predicted_word[1]\n",
    "    # else:\n",
    "        # predicted_word = predicted_word[0]\n",
    "    last_word = predicted_word\n",
    "    sentence.insert(index + i, vocab[predicted_word])\n",
    "    print([lookup_token(a) for a in sentence])"
   ]
  }
 ],
 "metadata": {
  "kernelspec": {
   "display_name": ".venv",
   "language": "python",
   "name": "python3"
  },
  "language_info": {
   "codemirror_mode": {
    "name": "ipython",
    "version": 3
   },
   "file_extension": ".py",
   "mimetype": "text/x-python",
   "name": "python",
   "nbconvert_exporter": "python",
   "pygments_lexer": "ipython3",
   "version": "3.11.3"
  }
 },
 "nbformat": 4,
 "nbformat_minor": 2
}
