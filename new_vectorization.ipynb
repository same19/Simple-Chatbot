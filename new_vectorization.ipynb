{
 "cells": [
  {
   "cell_type": "markdown",
   "metadata": {},
   "source": [
    "https://www.nltk.org/book/ch05.html\n",
    "\n",
    "Need to reduce more common words...\n",
    "\n",
    "Need to prevent overfitting. Keeps predicting the same word for every possible input.\n",
    "\n",
    "Replace mean squared with mean cube/fourth? Something to prioritize the largest errors."
   ]
  },
  {
   "cell_type": "code",
   "execution_count": 13,
   "metadata": {},
   "outputs": [],
   "source": [
    "import torch\n",
    "import torch.nn as nn\n",
    "import torch.nn.functional as F\n",
    "import torch.optim as optim\n",
    "import matplotlib.pyplot as plt\n",
    "import nltk\n",
    "from nltk import word_tokenize\n",
    "from nltk.corpus import wordnet\n",
    "from nltk.stem import PorterStemmer\n",
    "from nltk.stem import WordNetLemmatizer\n",
    "from nltk.corpus import words\n",
    "import numpy as np\n",
    "from sklearn.model_selection import train_test_split\n",
    "import pandas as pd"
   ]
  },
  {
   "cell_type": "code",
   "execution_count": 3,
   "metadata": {},
   "outputs": [],
   "source": [
    "def stem(word):\n",
    "    # sno = nltk.stem.SnowballStemmer('english')\n",
    "    ps = WordNetLemmatizer()\n",
    "    stem = ps.lemmatize(word)\n",
    "    return stem"
   ]
  },
  {
   "cell_type": "code",
   "execution_count": 4,
   "metadata": {},
   "outputs": [
    {
     "data": {
      "text/plain": [
       "15114"
      ]
     },
     "execution_count": 4,
     "metadata": {},
     "output_type": "execute_result"
    }
   ],
   "source": [
    "from nltk.corpus import brown\n",
    "brown_news_tagged = brown.tagged_words(categories='news', tagset='universal')\n",
    "len(pd.Series(brown_news_tagged).unique())"
   ]
  },
  {
   "cell_type": "code",
   "execution_count": 5,
   "metadata": {},
   "outputs": [
    {
     "data": {
      "text/plain": [
       "1161192"
      ]
     },
     "execution_count": 5,
     "metadata": {},
     "output_type": "execute_result"
    }
   ],
   "source": [
    "len(brown.words())"
   ]
  },
  {
   "cell_type": "markdown",
   "metadata": {},
   "source": [
    "# Train Model"
   ]
  },
  {
   "cell_type": "code",
   "execution_count": 314,
   "metadata": {},
   "outputs": [
    {
     "data": {
      "text/plain": [
       "5000"
      ]
     },
     "execution_count": 314,
     "metadata": {},
     "output_type": "execute_result"
    }
   ],
   "source": [
    "remove_punc = [word for word in brown_news_tagged if word[1] != \".\"]\n",
    "text = [word[0].lower() for word in remove_punc][:5000]\n",
    "# text = word_tokenize(open(\"text.txt\", \"r\").readline())\n",
    "len(text)"
   ]
  },
  {
   "cell_type": "code",
   "execution_count": 315,
   "metadata": {},
   "outputs": [
    {
     "data": {
      "text/plain": [
       "2"
      ]
     },
     "execution_count": 315,
     "metadata": {},
     "output_type": "execute_result"
    }
   ],
   "source": [
    "pd.Series(text).value_counts()[\"called\"]"
   ]
  },
  {
   "cell_type": "code",
   "execution_count": 316,
   "metadata": {},
   "outputs": [
    {
     "data": {
      "text/plain": [
       "1646"
      ]
     },
     "execution_count": 316,
     "metadata": {},
     "output_type": "execute_result"
    }
   ],
   "source": [
    "corpus = pd.Series([word for word in text]).unique()\n",
    "len(corpus)"
   ]
  },
  {
   "cell_type": "code",
   "execution_count": 413,
   "metadata": {},
   "outputs": [],
   "source": [
    "vecs = {}\n",
    "dim = len(corpus)\n",
    "for i in range(len(corpus)):\n",
    "    #frequent word subsampling\n",
    "    word_frequency = pd.Series(text).value_counts()[corpus[i]]/len(text)\n",
    "    t = 0.02\n",
    "    subsample_rate = (t/word_frequency)**0.5\n",
    "\n",
    "    vecs[corpus[i]] = [subsample_rate if i == j else 0.0 for j in range(len(corpus))]\n",
    "    # vecs[corpus[i]] = [1.0 if i == j else 0.0 for j in range(len(corpus))]\n",
    "    #vecs[word] = np.random(dim)*2-np.ones(dim)"
   ]
  },
  {
   "cell_type": "code",
   "execution_count": 437,
   "metadata": {},
   "outputs": [
    {
     "data": {
      "text/plain": [
       "MSELoss()"
      ]
     },
     "execution_count": 437,
     "metadata": {},
     "output_type": "execute_result"
    }
   ],
   "source": [
    "class Net(nn.Module):\n",
    "\n",
    "    def __init__(self, in_len):\n",
    "        super(Net, self).__init__()\n",
    "        self.fc1 = nn.Linear(2*in_len, 128) #to embedding layer (the internal representation of the input word)\n",
    "        self.fc2 = nn.Linear(128, in_len, bias=False) #to output (word before, word after)\n",
    "    def forward(self, x):\n",
    "        # x = F.relu(self.fc1(x))\n",
    "        x = F.sigmoid(self.fc1(x))\n",
    "        x = self.fc2(x)\n",
    "        return x\n",
    "    def embeddings(self, x):\n",
    "        x = self.fc1(x)\n",
    "        return x\n",
    "    def loss_score(self, x, y):\n",
    "        l = 0\n",
    "        for i in range(len(x)):\n",
    "            output = self(x[i])\n",
    "            target = y[i]\n",
    "            criterion_temp = nn.MSELoss()\n",
    "            loss = criterion_temp(output, target)\n",
    "            l += loss.item()/len(x)\n",
    "        return l\n",
    "net = Net(len(corpus))\n",
    "\n",
    "params = list(net.parameters())\n",
    "\n",
    "net.zero_grad()\n",
    "\n",
    "def criterion(input, target):\n",
    "    return sum((a-b)**3 for a,b in zip(input, target))/len(input)\n",
    "nn.MSELoss()\n",
    "# nn.CosineEmbeddingLoss()\n",
    "# nn.MSELoss()\n",
    "# nn.BCELoss\n",
    "# nn.LocalResponseNorm\n"
   ]
  },
  {
   "cell_type": "code",
   "execution_count": 438,
   "metadata": {},
   "outputs": [
    {
     "data": {
      "text/plain": [
       "4990"
      ]
     },
     "execution_count": 438,
     "metadata": {},
     "output_type": "execute_result"
    }
   ],
   "source": [
    "x = []\n",
    "y = []\n",
    "individual_words = text\n",
    "word_dict = vecs\n",
    "\n",
    "scanning_window = 5\n",
    "# for i in range(1,len(individual_words)-1):\n",
    "#     x.append(torch.tensor(word_dict[individual_words[i]]))\n",
    "#     y.append(torch.tensor(word_dict[individual_words[i-1]] + word_dict[individual_words[i+1]]))\n",
    "x = np.zeros(len(individual_words)-2*scanning_window)\n",
    "y = np.zeros(len(individual_words)-2*scanning_window)\n",
    "\n",
    "x_train, x_test, y_train, y_test = train_test_split(x, y, test_size=0.2, random_state=5)\n",
    "len(x)"
   ]
  },
  {
   "cell_type": "code",
   "execution_count": 439,
   "metadata": {},
   "outputs": [],
   "source": [
    "# create your optimizer\n",
    "losses = []\n",
    "optimizer = optim.SGD(net.parameters(), lr=0.01)"
   ]
  },
  {
   "cell_type": "code",
   "execution_count": 440,
   "metadata": {},
   "outputs": [],
   "source": [
    "def generate_training_data(index, window = 10, data=individual_words):\n",
    "    input_list = word_dict[data[index+window]]\n",
    "    o0 = np.zeros(len(corpus))\n",
    "    for i in range(-window, 0):\n",
    "        if index + i >= 0:\n",
    "            o0 += np.array(word_dict[data[index + i + window]]) * np.exp((i/window)**2 * -2)\n",
    "    o1 = np.zeros(len(corpus))\n",
    "    for i in range(1, window+1):\n",
    "        if index + i < len(data):\n",
    "            o1 += np.array(word_dict[data[index + i + window]]) * np.exp((i/window)**2 * -2)\n",
    "\n",
    "    # o0 *= 1/((sum(x**2 for x in o0))**0.5)\n",
    "    # o1 *= 1/((sum(x**2 for x in o1))**0.5)\n",
    "    return torch.tensor([float(a) for a in input_list]), torch.tensor([float(a) for a in (list(o0) + list(o1))])"
   ]
  },
  {
   "cell_type": "code",
   "execution_count": 441,
   "metadata": {},
   "outputs": [
    {
     "name": "stdout",
     "output_type": "stream",
     "text": [
      "RUN 1/2: •••••••••••••••••••••\n",
      "RUN 2/2: •••••••••••••••••••••\n"
     ]
    }
   ],
   "source": [
    "NUM_RUNS = 2\n",
    "for run_num in range(NUM_RUNS):\n",
    "    print(\"RUN\", str(run_num+1)+\"/\"+str(NUM_RUNS), end=\": \")\n",
    "    for i in range(0,len(x_train),1):\n",
    "        if i % (len(x_train)//20) == 0:\n",
    "            print(\"•\", end=\"\")\n",
    "\n",
    "        # input = x_train[i]\n",
    "        # target = y_train[i]\n",
    "        target, input = generate_training_data(i, window = scanning_window)\n",
    "        if np.random.random() < 1 - max(target):\n",
    "            continue\n",
    "\n",
    "        optimizer.zero_grad()   # zero the gradient buffers\n",
    "        output = net(input)\n",
    "        loss = criterion(output, target)\n",
    "        losses.append(loss.item())\n",
    "        loss.backward()\n",
    "        optimizer.step()    # Does the update\n",
    "    # plt.plot(losses)\n",
    "    # plt.show()\n",
    "    print()"
   ]
  },
  {
   "cell_type": "code",
   "execution_count": 447,
   "metadata": {},
   "outputs": [
    {
     "data": {
      "image/png": "[encoded data removed]",
      "text/plain": [
       "<Figure size 640x480 with 1 Axes>"
      ]
     },
     "metadata": {},
     "output_type": "display_data"
    }
   ],
   "source": [
    "# N_test = 100\n",
    "# print(net.loss_score(x_test, y_test))\n",
    "\n",
    "plt.plot(losses)\n",
    "plt.show()"
   ]
  },
  {
   "cell_type": "markdown",
   "metadata": {},
   "source": [
    "# Test Model"
   ]
  },
  {
   "cell_type": "code",
   "execution_count": 443,
   "metadata": {},
   "outputs": [],
   "source": [
    "def words_around(word):\n",
    "    return net(word)\n",
    "\n",
    "# l = words_around(torch.tensor(word_dict[\"live\"]))\n",
    "# # l1 = l[:len(l)//2]\n",
    "# l1 = l[len(l)//2:]\n",
    "# max_index = -1\n",
    "# for i in range(len(l1)):\n",
    "#     if l1[i] >= l1[max_index]:\n",
    "#         max_index = i\n",
    "# print(corpus[max_index])\n",
    "# print(l1[max_index].item())\n",
    "\n"
   ]
  },
  {
   "cell_type": "code",
   "execution_count": 448,
   "metadata": {},
   "outputs": [
    {
     "data": {
      "text/plain": [
       "['there',\n",
       " 'is',\n",
       " 'person',\n",
       " 'planning',\n",
       " 'to',\n",
       " 'do',\n",
       " '7.5',\n",
       " '7.5',\n",
       " '7.5',\n",
       " '7.5',\n",
       " '7.5',\n",
       " 'the',\n",
       " 'the',\n",
       " 'the',\n",
       " 'the',\n",
       " 'the',\n",
       " 'the',\n",
       " 'the',\n",
       " 'the',\n",
       " 'the']"
      ]
     },
     "execution_count": 448,
     "metadata": {},
     "output_type": "execute_result"
    }
   ],
   "source": [
    "text_11_words = \"there is person planning to do the the the the the the the the the\"\n",
    "gen = text_11_words.split(\" \")\n",
    "for i in range(5):\n",
    "    input, output = generate_training_data(i, window=scanning_window, data=gen)\n",
    "    o = net(output)\n",
    "    o = list(o[:len(o)//2]) + list(0.1*torch.ones_like(o[len(o)//2:]))\n",
    "    max_i = -1\n",
    "    for i in range(len(o)):\n",
    "        if o[i].item() > o[max_i].item():\n",
    "            max_i = i\n",
    "    max_i\n",
    "    gen.insert(scanning_window+1, corpus[max_i])\n",
    "\n",
    "gen"
   ]
  },
  {
   "cell_type": "code",
   "execution_count": 445,
   "metadata": {},
   "outputs": [
    {
     "data": {
      "text/plain": [
       "'7.5'"
      ]
     },
     "execution_count": 445,
     "metadata": {},
     "output_type": "execute_result"
    }
   ],
   "source": [
    "input = -1*torch.ones(2*len(corpus))\n",
    "o = net(input)\n",
    "o\n",
    "max_i = -1\n",
    "for i in range(len(o)):\n",
    "    if o[i].item() > o[max_i].item():\n",
    "        max_i = i\n",
    "max_i\n",
    "corpus[max_i]"
   ]
  },
  {
   "cell_type": "code",
   "execution_count": 446,
   "metadata": {},
   "outputs": [
    {
     "ename": "KeyError",
     "evalue": "'eats'",
     "output_type": "error",
     "traceback": [
      "\u001b[0;31m---------------------------------------------------------------------------\u001b[0m",
      "\u001b[0;31mKeyError\u001b[0m                                  Traceback (most recent call last)",
      "Cell \u001b[0;32mIn[446], line 3\u001b[0m\n\u001b[1;32m      1\u001b[0m generation \u001b[38;5;241m=\u001b[39m [\u001b[38;5;124m\"\u001b[39m\u001b[38;5;124meats\u001b[39m\u001b[38;5;124m\"\u001b[39m]\n\u001b[1;32m      2\u001b[0m \u001b[38;5;28;01mfor\u001b[39;00m _ \u001b[38;5;129;01min\u001b[39;00m \u001b[38;5;28mrange\u001b[39m(\u001b[38;5;241m5\u001b[39m):\n\u001b[0;32m----> 3\u001b[0m     l \u001b[38;5;241m=\u001b[39m words_around(torch\u001b[38;5;241m.\u001b[39mtensor([\u001b[38;5;28mfloat\u001b[39m(a) \u001b[38;5;28;01mfor\u001b[39;00m a \u001b[38;5;129;01min\u001b[39;00m \u001b[43mword_dict\u001b[49m\u001b[43m[\u001b[49m\u001b[43mgeneration\u001b[49m\u001b[43m[\u001b[49m\u001b[38;5;241;43m-\u001b[39;49m\u001b[38;5;241;43m1\u001b[39;49m\u001b[43m]\u001b[49m\u001b[43m]\u001b[49m] \u001b[38;5;241m+\u001b[39m [\u001b[38;5;28mfloat\u001b[39m(a) \u001b[38;5;28;01mfor\u001b[39;00m a \u001b[38;5;129;01min\u001b[39;00m np\u001b[38;5;241m.\u001b[39mzeros(dim)]))\n\u001b[1;32m      4\u001b[0m     \u001b[38;5;66;03m# l1 = l[len(l)//2:]\u001b[39;00m\n\u001b[1;32m      5\u001b[0m     l1 \u001b[38;5;241m=\u001b[39m l\n",
      "\u001b[0;31mKeyError\u001b[0m: 'eats'"
     ]
    }
   ],
   "source": [
    "generation = [\"eats\"]\n",
    "for _ in range(5):\n",
    "    l = words_around(torch.tensor([float(a) for a in word_dict[generation[-1]]] + [float(a) for a in np.zeros(dim)]))\n",
    "    # l1 = l[len(l)//2:]\n",
    "    l1 = l\n",
    "    max_index = -1\n",
    "    for i in range(len(l1)):\n",
    "        if l1[i] >= l1[max_index]:\n",
    "            max_index = i\n",
    "    generation.append(corpus[max_index])"
   ]
  },
  {
   "cell_type": "code",
   "execution_count": null,
   "metadata": {},
   "outputs": [
    {
     "data": {
      "text/plain": [
       "['eats', 'the', 'cat', 'not', 'the', 'cat']"
      ]
     },
     "execution_count": 260,
     "metadata": {},
     "output_type": "execute_result"
    }
   ],
   "source": [
    "generation"
   ]
  },
  {
   "cell_type": "code",
   "execution_count": null,
   "metadata": {},
   "outputs": [
    {
     "ename": "KeyError",
     "evalue": "'mano'",
     "output_type": "error",
     "traceback": [
      "\u001b[0;31m---------------------------------------------------------------------------\u001b[0m",
      "\u001b[0;31mKeyError\u001b[0m                                  Traceback (most recent call last)",
      "File \u001b[0;32m~/Documents/Code/Embeddings Project/.venv/lib/python3.11/site-packages/pandas/core/indexes/base.py:3805\u001b[0m, in \u001b[0;36mIndex.get_loc\u001b[0;34m(self, key)\u001b[0m\n\u001b[1;32m   3804\u001b[0m \u001b[38;5;28;01mtry\u001b[39;00m:\n\u001b[0;32m-> 3805\u001b[0m     \u001b[38;5;28;01mreturn\u001b[39;00m \u001b[38;5;28;43mself\u001b[39;49m\u001b[38;5;241;43m.\u001b[39;49m\u001b[43m_engine\u001b[49m\u001b[38;5;241;43m.\u001b[39;49m\u001b[43mget_loc\u001b[49m\u001b[43m(\u001b[49m\u001b[43mcasted_key\u001b[49m\u001b[43m)\u001b[49m\n\u001b[1;32m   3806\u001b[0m \u001b[38;5;28;01mexcept\u001b[39;00m \u001b[38;5;167;01mKeyError\u001b[39;00m \u001b[38;5;28;01mas\u001b[39;00m err:\n",
      "File \u001b[0;32mindex.pyx:167\u001b[0m, in \u001b[0;36mpandas._libs.index.IndexEngine.get_loc\u001b[0;34m()\u001b[0m\n",
      "File \u001b[0;32mindex.pyx:196\u001b[0m, in \u001b[0;36mpandas._libs.index.IndexEngine.get_loc\u001b[0;34m()\u001b[0m\n",
      "File \u001b[0;32mpandas/_libs/hashtable_class_helper.pxi:7081\u001b[0m, in \u001b[0;36mpandas._libs.hashtable.PyObjectHashTable.get_item\u001b[0;34m()\u001b[0m\n",
      "File \u001b[0;32mpandas/_libs/hashtable_class_helper.pxi:7089\u001b[0m, in \u001b[0;36mpandas._libs.hashtable.PyObjectHashTable.get_item\u001b[0;34m()\u001b[0m\n",
      "\u001b[0;31mKeyError\u001b[0m: 'mano'",
      "\nThe above exception was the direct cause of the following exception:\n",
      "\u001b[0;31mKeyError\u001b[0m                                  Traceback (most recent call last)",
      "Cell \u001b[0;32mIn[258], line 1\u001b[0m\n\u001b[0;32m----> 1\u001b[0m \u001b[43mpd\u001b[49m\u001b[38;5;241;43m.\u001b[39;49m\u001b[43mSeries\u001b[49m\u001b[43m(\u001b[49m\u001b[43mtext\u001b[49m\u001b[43m)\u001b[49m\u001b[38;5;241;43m.\u001b[39;49m\u001b[43mvalue_counts\u001b[49m\u001b[43m(\u001b[49m\u001b[43m)\u001b[49m\u001b[43m[\u001b[49m\u001b[38;5;124;43m'\u001b[39;49m\u001b[38;5;124;43mmano\u001b[39;49m\u001b[38;5;124;43m'\u001b[39;49m\u001b[43m]\u001b[49m\n",
      "File \u001b[0;32m~/Documents/Code/Embeddings Project/.venv/lib/python3.11/site-packages/pandas/core/series.py:1112\u001b[0m, in \u001b[0;36mSeries.__getitem__\u001b[0;34m(self, key)\u001b[0m\n\u001b[1;32m   1109\u001b[0m     \u001b[38;5;28;01mreturn\u001b[39;00m \u001b[38;5;28mself\u001b[39m\u001b[38;5;241m.\u001b[39m_values[key]\n\u001b[1;32m   1111\u001b[0m \u001b[38;5;28;01melif\u001b[39;00m key_is_scalar:\n\u001b[0;32m-> 1112\u001b[0m     \u001b[38;5;28;01mreturn\u001b[39;00m \u001b[38;5;28;43mself\u001b[39;49m\u001b[38;5;241;43m.\u001b[39;49m\u001b[43m_get_value\u001b[49m\u001b[43m(\u001b[49m\u001b[43mkey\u001b[49m\u001b[43m)\u001b[49m\n\u001b[1;32m   1114\u001b[0m \u001b[38;5;66;03m# Convert generator to list before going through hashable part\u001b[39;00m\n\u001b[1;32m   1115\u001b[0m \u001b[38;5;66;03m# (We will iterate through the generator there to check for slices)\u001b[39;00m\n\u001b[1;32m   1116\u001b[0m \u001b[38;5;28;01mif\u001b[39;00m is_iterator(key):\n",
      "File \u001b[0;32m~/Documents/Code/Embeddings Project/.venv/lib/python3.11/site-packages/pandas/core/series.py:1228\u001b[0m, in \u001b[0;36mSeries._get_value\u001b[0;34m(self, label, takeable)\u001b[0m\n\u001b[1;32m   1225\u001b[0m     \u001b[38;5;28;01mreturn\u001b[39;00m \u001b[38;5;28mself\u001b[39m\u001b[38;5;241m.\u001b[39m_values[label]\n\u001b[1;32m   1227\u001b[0m \u001b[38;5;66;03m# Similar to Index.get_value, but we do not fall back to positional\u001b[39;00m\n\u001b[0;32m-> 1228\u001b[0m loc \u001b[38;5;241m=\u001b[39m \u001b[38;5;28;43mself\u001b[39;49m\u001b[38;5;241;43m.\u001b[39;49m\u001b[43mindex\u001b[49m\u001b[38;5;241;43m.\u001b[39;49m\u001b[43mget_loc\u001b[49m\u001b[43m(\u001b[49m\u001b[43mlabel\u001b[49m\u001b[43m)\u001b[49m\n\u001b[1;32m   1230\u001b[0m \u001b[38;5;28;01mif\u001b[39;00m is_integer(loc):\n\u001b[1;32m   1231\u001b[0m     \u001b[38;5;28;01mreturn\u001b[39;00m \u001b[38;5;28mself\u001b[39m\u001b[38;5;241m.\u001b[39m_values[loc]\n",
      "File \u001b[0;32m~/Documents/Code/Embeddings Project/.venv/lib/python3.11/site-packages/pandas/core/indexes/base.py:3812\u001b[0m, in \u001b[0;36mIndex.get_loc\u001b[0;34m(self, key)\u001b[0m\n\u001b[1;32m   3807\u001b[0m     \u001b[38;5;28;01mif\u001b[39;00m \u001b[38;5;28misinstance\u001b[39m(casted_key, \u001b[38;5;28mslice\u001b[39m) \u001b[38;5;129;01mor\u001b[39;00m (\n\u001b[1;32m   3808\u001b[0m         \u001b[38;5;28misinstance\u001b[39m(casted_key, abc\u001b[38;5;241m.\u001b[39mIterable)\n\u001b[1;32m   3809\u001b[0m         \u001b[38;5;129;01mand\u001b[39;00m \u001b[38;5;28many\u001b[39m(\u001b[38;5;28misinstance\u001b[39m(x, \u001b[38;5;28mslice\u001b[39m) \u001b[38;5;28;01mfor\u001b[39;00m x \u001b[38;5;129;01min\u001b[39;00m casted_key)\n\u001b[1;32m   3810\u001b[0m     ):\n\u001b[1;32m   3811\u001b[0m         \u001b[38;5;28;01mraise\u001b[39;00m InvalidIndexError(key)\n\u001b[0;32m-> 3812\u001b[0m     \u001b[38;5;28;01mraise\u001b[39;00m \u001b[38;5;167;01mKeyError\u001b[39;00m(key) \u001b[38;5;28;01mfrom\u001b[39;00m \u001b[38;5;21;01merr\u001b[39;00m\n\u001b[1;32m   3813\u001b[0m \u001b[38;5;28;01mexcept\u001b[39;00m \u001b[38;5;167;01mTypeError\u001b[39;00m:\n\u001b[1;32m   3814\u001b[0m     \u001b[38;5;66;03m# If we have a listlike key, _check_indexing_error will raise\u001b[39;00m\n\u001b[1;32m   3815\u001b[0m     \u001b[38;5;66;03m#  InvalidIndexError. Otherwise we fall through and re-raise\u001b[39;00m\n\u001b[1;32m   3816\u001b[0m     \u001b[38;5;66;03m#  the TypeError.\u001b[39;00m\n\u001b[1;32m   3817\u001b[0m     \u001b[38;5;28mself\u001b[39m\u001b[38;5;241m.\u001b[39m_check_indexing_error(key)\n",
      "\u001b[0;31mKeyError\u001b[0m: 'mano'"
     ]
    }
   ],
   "source": [
    "pd.Series(text).value_counts()['mano']"
   ]
  },
  {
   "cell_type": "code",
   "execution_count": null,
   "metadata": {},
   "outputs": [],
   "source": [
    "def embeddings(word):\n",
    "    return [v.item() for v in net.embeddings(torch.tensor(word_dict[word]))]\n",
    "def cos_similarity(a, b):\n",
    "    s = 0\n",
    "    for i in range(len(a)):\n",
    "        s += a[i] * b[i]\n",
    "    s /= sum(e**2 for e in a)**0.5\n",
    "    s /= sum(e**2 for e in b)**0.5\n",
    "    return s\n",
    "emb = [embeddings(word) for word in corpus]\n",
    "ref = embeddings(\"noticed\")"
   ]
  },
  {
   "cell_type": "code",
   "execution_count": null,
   "metadata": {},
   "outputs": [],
   "source": [
    "min_i = -1\n",
    "for i in range(len(corpus)):\n",
    "    s = cos_similarity(emb[i], ref)\n",
    "    if s != 0 and s <= cos_similarity(emb[min_i], ref):\n",
    "        min_i = i\n",
    "print(corpus[min_i])"
   ]
  }
 ],
 "metadata": {
  "kernelspec": {
   "display_name": ".venv",
   "language": "python",
   "name": "python3"
  },
  "language_info": {
   "codemirror_mode": {
    "name": "ipython",
    "version": 3
   },
   "file_extension": ".py",
   "mimetype": "text/x-python",
   "name": "python",
   "nbconvert_exporter": "python",
   "pygments_lexer": "ipython3",
   "version": "3.11.3"
  }
 },
 "nbformat": 4,
 "nbformat_minor": 2
}
